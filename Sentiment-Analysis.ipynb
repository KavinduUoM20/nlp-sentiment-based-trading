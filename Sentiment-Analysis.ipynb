{
 "cells": [
  {
   "cell_type": "markdown",
   "id": "935a0601-e3e9-4006-9088-e49d4b0de2fc",
   "metadata": {},
   "source": [
    "# **Sentiment Analysis on News/Tweets related to Stock AAPL**"
   ]
  },
  {
   "cell_type": "markdown",
   "id": "50f37e38-110e-4523-8b56-8ecee9840f4b",
   "metadata": {},
   "source": [
    "# 1. Import Dependancies"
   ]
  },
  {
   "cell_type": "code",
   "execution_count": 2,
   "id": "d230b0c0-e627-4b69-bc43-0c45157aac1b",
   "metadata": {},
   "outputs": [
    {
     "name": "stderr",
     "output_type": "stream",
     "text": [
      "[nltk_data] Error loading stopwords: <urlopen error [Errno 11001]\n",
      "[nltk_data]     getaddrinfo failed>\n",
      "[nltk_data] Error loading punkt: <urlopen error [Errno 11001]\n",
      "[nltk_data]     getaddrinfo failed>\n",
      "[nltk_data] Error loading averaged_perceptron_tagger: <urlopen error\n",
      "[nltk_data]     [Errno 11001] getaddrinfo failed>\n",
      "[nltk_data] Error loading vader_lexicon: <urlopen error [Errno 11001]\n",
      "[nltk_data]     getaddrinfo failed>\n"
     ]
    }
   ],
   "source": [
    "import pandas as pd \n",
    "import string \n",
    "\n",
    "# Importing Natural Language Processing toolkit \n",
    "import nltk\n",
    "\n",
    "# Downloading the NLTK english stop words\n",
    "nltk.download('stopwords')\n",
    "\n",
    "# Downloading the NLTK sentence tokenizer\n",
    "nltk.download('punkt')\n",
    "\n",
    "# Downloading the NLTK POS Tagger\n",
    "nltk.download('averaged_perceptron_tagger')\n",
    "\n",
    "# Downloading the NLTK Vader Lexicon\n",
    "nltk.download('vader_lexicon')\n",
    "\n",
    "# Importing the NLTK english stop words \n",
    "from nltk.corpus import stopwords\n",
    "\n",
    "# Importing frequency distribution from NLTK\n",
    "from nltk.probability import FreqDist\n",
    "\n",
    "# Importing VADER dictionary. It is a rule-based sentiment analyzer\n",
    "from nltk.sentiment import SentimentIntensityAnalyzer\n",
    "\n",
    "# Importing data visualization modules \n",
    "from wordcloud import WordCloud\n",
    "import plotly.express as px \n",
    "import matplotlib.pyplot as plt"
   ]
  },
  {
   "cell_type": "markdown",
   "id": "34987323-6417-4e28-bd50-f041139f3518",
   "metadata": {},
   "source": [
    "# 2. Load Dataset"
   ]
  },
  {
   "cell_type": "code",
   "execution_count": 3,
   "id": "7346f3ba-2be6-4588-96fd-9a81c19af79a",
   "metadata": {},
   "outputs": [],
   "source": [
    "data_news = pd.read_csv(\"./data/AAPL_news.csv\")"
   ]
  },
  {
   "cell_type": "code",
   "execution_count": 4,
   "id": "ff6bfa56-6be3-4f5a-b1ca-fa47a09efe93",
   "metadata": {},
   "outputs": [
    {
     "data": {
      "text/html": [
       "<div>\n",
       "<style scoped>\n",
       "    .dataframe tbody tr th:only-of-type {\n",
       "        vertical-align: middle;\n",
       "    }\n",
       "\n",
       "    .dataframe tbody tr th {\n",
       "        vertical-align: top;\n",
       "    }\n",
       "\n",
       "    .dataframe thead th {\n",
       "        text-align: right;\n",
       "    }\n",
       "</style>\n",
       "<table border=\"1\" class=\"dataframe\">\n",
       "  <thead>\n",
       "    <tr style=\"text-align: right;\">\n",
       "      <th></th>\n",
       "      <th>Publisher</th>\n",
       "      <th>Complete_Title</th>\n",
       "      <th>Abstract</th>\n",
       "      <th>Website</th>\n",
       "      <th>Time</th>\n",
       "      <th>Stock</th>\n",
       "      <th>Exact_Time</th>\n",
       "    </tr>\n",
       "  </thead>\n",
       "  <tbody>\n",
       "    <tr>\n",
       "      <th>0</th>\n",
       "      <td>The Motley Fool</td>\n",
       "      <td>Apple Stock: Buy, Sell, or Hold After Soaring ...</td>\n",
       "      <td>The tech giant is now worth nearly $2.3 trilli...</td>\n",
       "      <td>https://www.fool.com/investing/2021/01/01/appl...</td>\n",
       "      <td>1/1/2021</td>\n",
       "      <td>AAPL</td>\n",
       "      <td>10:05:00</td>\n",
       "    </tr>\n",
       "    <tr>\n",
       "      <th>1</th>\n",
       "      <td>Business Insider</td>\n",
       "      <td>Apple Watch SE favorite purchase of 2020: fitn...</td>\n",
       "      <td>I bought the new Apple Watch SE this fall. ?? ...</td>\n",
       "      <td>https://www.businessinsider.com/apple-watch-se...</td>\n",
       "      <td>1/1/2021</td>\n",
       "      <td>AAPL</td>\n",
       "      <td>8:12:00</td>\n",
       "    </tr>\n",
       "    <tr>\n",
       "      <th>2</th>\n",
       "      <td>Forbes</td>\n",
       "      <td>Apple Fitness Plus: 7 Reasons It Should Be You...</td>\n",
       "      <td>Specifically an iPhone and an Apple Watch. You...</td>\n",
       "      <td>https://www.forbes.com/sites/davidphelan/2021/...</td>\n",
       "      <td>1/2/2021</td>\n",
       "      <td>AAPL</td>\n",
       "      <td>7:00:00</td>\n",
       "    </tr>\n",
       "    <tr>\n",
       "      <th>3</th>\n",
       "      <td>Forbes</td>\n",
       "      <td>Huawei Fallout?????Google, Samsung And Apple F...</td>\n",
       "      <td>Put simply, the downside risks from America bl...</td>\n",
       "      <td>https://www.forbes.com/sites/zakdoffman/2021/0...</td>\n",
       "      <td>1/2/2021</td>\n",
       "      <td>AAPL</td>\n",
       "      <td>18:50:00</td>\n",
       "    </tr>\n",
       "    <tr>\n",
       "      <th>4</th>\n",
       "      <td>The Motley Fool</td>\n",
       "      <td>Bold Prediction: General Motors Is the Next Ap...</td>\n",
       "      <td>Apple has had an incredible turnaround over th...</td>\n",
       "      <td>https://www.fool.com/investing/2021/01/02/bold...</td>\n",
       "      <td>1/2/2021</td>\n",
       "      <td>AAPL</td>\n",
       "      <td>11:54:00</td>\n",
       "    </tr>\n",
       "  </tbody>\n",
       "</table>\n",
       "</div>"
      ],
      "text/plain": [
       "          Publisher                                     Complete_Title  \\\n",
       "0   The Motley Fool  Apple Stock: Buy, Sell, or Hold After Soaring ...   \n",
       "1  Business Insider  Apple Watch SE favorite purchase of 2020: fitn...   \n",
       "2            Forbes  Apple Fitness Plus: 7 Reasons It Should Be You...   \n",
       "3            Forbes  Huawei Fallout?????Google, Samsung And Apple F...   \n",
       "4   The Motley Fool  Bold Prediction: General Motors Is the Next Ap...   \n",
       "\n",
       "                                            Abstract  \\\n",
       "0  The tech giant is now worth nearly $2.3 trilli...   \n",
       "1  I bought the new Apple Watch SE this fall. ?? ...   \n",
       "2  Specifically an iPhone and an Apple Watch. You...   \n",
       "3  Put simply, the downside risks from America bl...   \n",
       "4  Apple has had an incredible turnaround over th...   \n",
       "\n",
       "                                             Website      Time Stock  \\\n",
       "0  https://www.fool.com/investing/2021/01/01/appl...  1/1/2021  AAPL   \n",
       "1  https://www.businessinsider.com/apple-watch-se...  1/1/2021  AAPL   \n",
       "2  https://www.forbes.com/sites/davidphelan/2021/...  1/2/2021  AAPL   \n",
       "3  https://www.forbes.com/sites/zakdoffman/2021/0...  1/2/2021  AAPL   \n",
       "4  https://www.fool.com/investing/2021/01/02/bold...  1/2/2021  AAPL   \n",
       "\n",
       "  Exact_Time  \n",
       "0   10:05:00  \n",
       "1    8:12:00  \n",
       "2    7:00:00  \n",
       "3   18:50:00  \n",
       "4   11:54:00  "
      ]
     },
     "execution_count": 4,
     "metadata": {},
     "output_type": "execute_result"
    }
   ],
   "source": [
    "data_news.head()"
   ]
  },
  {
   "cell_type": "code",
   "execution_count": 5,
   "id": "6533cf65-a23d-40c0-880f-b17ffee63866",
   "metadata": {},
   "outputs": [
    {
     "data": {
      "text/plain": [
       "(2139, 7)"
      ]
     },
     "execution_count": 5,
     "metadata": {},
     "output_type": "execute_result"
    }
   ],
   "source": [
    "data_news.shape"
   ]
  },
  {
   "cell_type": "code",
   "execution_count": 6,
   "id": "b3b91701-bc9e-4ef5-832a-1268813e4936",
   "metadata": {},
   "outputs": [
    {
     "name": "stdout",
     "output_type": "stream",
     "text": [
      "<class 'pandas.core.frame.DataFrame'>\n",
      "RangeIndex: 2139 entries, 0 to 2138\n",
      "Data columns (total 7 columns):\n",
      " #   Column          Non-Null Count  Dtype \n",
      "---  ------          --------------  ----- \n",
      " 0   Publisher       2139 non-null   object\n",
      " 1   Complete_Title  2139 non-null   object\n",
      " 2   Abstract        2139 non-null   object\n",
      " 3   Website         2139 non-null   object\n",
      " 4   Time            2139 non-null   object\n",
      " 5   Stock           2139 non-null   object\n",
      " 6   Exact_Time      2139 non-null   object\n",
      "dtypes: object(7)\n",
      "memory usage: 117.1+ KB\n"
     ]
    }
   ],
   "source": [
    "data_news.info()"
   ]
  },
  {
   "cell_type": "code",
   "execution_count": 7,
   "id": "2e2797c2-bd69-4309-ad89-fa52ba04ca71",
   "metadata": {},
   "outputs": [],
   "source": [
    "data_tweets = pd.read_csv(\"./data/AAPL_twitter.csv\")"
   ]
  },
  {
   "cell_type": "code",
   "execution_count": 8,
   "id": "a9588bfa-32ee-4690-bac9-4a2d4790f3d2",
   "metadata": {},
   "outputs": [
    {
     "data": {
      "text/html": [
       "<div>\n",
       "<style scoped>\n",
       "    .dataframe tbody tr th:only-of-type {\n",
       "        vertical-align: middle;\n",
       "    }\n",
       "\n",
       "    .dataframe tbody tr th {\n",
       "        vertical-align: top;\n",
       "    }\n",
       "\n",
       "    .dataframe thead th {\n",
       "        text-align: right;\n",
       "    }\n",
       "</style>\n",
       "<table border=\"1\" class=\"dataframe\">\n",
       "  <thead>\n",
       "    <tr style=\"text-align: right;\">\n",
       "      <th></th>\n",
       "      <th>date</th>\n",
       "      <th>time</th>\n",
       "      <th>tweet</th>\n",
       "      <th>retweets_count</th>\n",
       "      <th>likes_count</th>\n",
       "      <th>LEN</th>\n",
       "    </tr>\n",
       "  </thead>\n",
       "  <tbody>\n",
       "    <tr>\n",
       "      <th>0</th>\n",
       "      <td>1/1/2021</td>\n",
       "      <td>23:41:18</td>\n",
       "      <td>@peregreine Price target for Apple for Jan/feb...</td>\n",
       "      <td>0</td>\n",
       "      <td>0</td>\n",
       "      <td>3</td>\n",
       "    </tr>\n",
       "    <tr>\n",
       "      <th>1</th>\n",
       "      <td>1/1/2021</td>\n",
       "      <td>23:11:12</td>\n",
       "      <td>$AAPL looks good if it can clear 133 for 135, ...</td>\n",
       "      <td>0</td>\n",
       "      <td>4</td>\n",
       "      <td>1</td>\n",
       "    </tr>\n",
       "    <tr>\n",
       "      <th>2</th>\n",
       "      <td>1/1/2021</td>\n",
       "      <td>23:09:40</td>\n",
       "      <td>@tim_cook I ordered an Apple MacBook Air two w...</td>\n",
       "      <td>0</td>\n",
       "      <td>0</td>\n",
       "      <td>1</td>\n",
       "    </tr>\n",
       "    <tr>\n",
       "      <th>3</th>\n",
       "      <td>1/1/2021</td>\n",
       "      <td>22:55:00</td>\n",
       "      <td>Apple cost short sellers $7 billion this yr. $...</td>\n",
       "      <td>2</td>\n",
       "      <td>54</td>\n",
       "      <td>2</td>\n",
       "    </tr>\n",
       "    <tr>\n",
       "      <th>4</th>\n",
       "      <td>1/1/2021</td>\n",
       "      <td>22:37:39</td>\n",
       "      <td>Will $Aapl hit $250 by 2022</td>\n",
       "      <td>0</td>\n",
       "      <td>0</td>\n",
       "      <td>1</td>\n",
       "    </tr>\n",
       "  </tbody>\n",
       "</table>\n",
       "</div>"
      ],
      "text/plain": [
       "       date      time                                              tweet  \\\n",
       "0  1/1/2021  23:41:18  @peregreine Price target for Apple for Jan/feb...   \n",
       "1  1/1/2021  23:11:12  $AAPL looks good if it can clear 133 for 135, ...   \n",
       "2  1/1/2021  23:09:40  @tim_cook I ordered an Apple MacBook Air two w...   \n",
       "3  1/1/2021  22:55:00  Apple cost short sellers $7 billion this yr. $...   \n",
       "4  1/1/2021  22:37:39                        Will $Aapl hit $250 by 2022   \n",
       "\n",
       "   retweets_count  likes_count  LEN  \n",
       "0               0            0    3  \n",
       "1               0            4    1  \n",
       "2               0            0    1  \n",
       "3               2           54    2  \n",
       "4               0            0    1  "
      ]
     },
     "execution_count": 8,
     "metadata": {},
     "output_type": "execute_result"
    }
   ],
   "source": [
    "data_tweets.head()"
   ]
  },
  {
   "cell_type": "code",
   "execution_count": 9,
   "id": "8cebab7d-1d73-4842-a43e-7fcd70bf15ca",
   "metadata": {},
   "outputs": [
    {
     "data": {
      "text/plain": [
       "(114653, 6)"
      ]
     },
     "execution_count": 9,
     "metadata": {},
     "output_type": "execute_result"
    }
   ],
   "source": [
    "data_tweets.shape"
   ]
  },
  {
   "cell_type": "code",
   "execution_count": 10,
   "id": "fe711fdb-a5c6-43e5-9ea0-93f6eef46fc0",
   "metadata": {},
   "outputs": [
    {
     "name": "stdout",
     "output_type": "stream",
     "text": [
      "<class 'pandas.core.frame.DataFrame'>\n",
      "RangeIndex: 114653 entries, 0 to 114652\n",
      "Data columns (total 6 columns):\n",
      " #   Column          Non-Null Count   Dtype \n",
      "---  ------          --------------   ----- \n",
      " 0   date            114653 non-null  object\n",
      " 1   time            114653 non-null  object\n",
      " 2   tweet           114653 non-null  object\n",
      " 3   retweets_count  114653 non-null  int64 \n",
      " 4   likes_count     114653 non-null  int64 \n",
      " 5   LEN             114653 non-null  int64 \n",
      "dtypes: int64(3), object(3)\n",
      "memory usage: 5.2+ MB\n"
     ]
    }
   ],
   "source": [
    "data_tweets.info()"
   ]
  },
  {
   "cell_type": "markdown",
   "id": "d543dcdb-9bf8-4640-affc-edec7c035ee7",
   "metadata": {},
   "source": [
    "# 3. Explore Dataset"
   ]
  },
  {
   "cell_type": "markdown",
   "id": "ac8eb15c-8bd6-4672-887f-18a9f4c665a5",
   "metadata": {},
   "source": [
    "#### News"
   ]
  },
  {
   "cell_type": "code",
   "execution_count": 11,
   "id": "b6b2a3c5-e89f-47bd-9344-47e4cd266da0",
   "metadata": {},
   "outputs": [
    {
     "data": {
      "text/plain": [
       "0    Apple Stock: Buy, Sell, or Hold After Soaring ...\n",
       "1    Apple Watch SE favorite purchase of 2020: fitn...\n",
       "2    Apple Fitness Plus: 7 Reasons It Should Be You...\n",
       "3    Huawei Fallout?????Google, Samsung And Apple F...\n",
       "4    Bold Prediction: General Motors Is the Next Ap...\n",
       "Name: Complete_Title, dtype: object"
      ]
     },
     "execution_count": 11,
     "metadata": {},
     "output_type": "execute_result"
    }
   ],
   "source": [
    "data_news.Complete_Title[:5]"
   ]
  },
  {
   "cell_type": "code",
   "execution_count": 12,
   "id": "30ad90c7-0193-4feb-89a9-4c64dd34ba6e",
   "metadata": {},
   "outputs": [
    {
     "data": {
      "text/plain": [
       "'The tech giant is now worth nearly $2.3 trillion. 2020 was an astounding year for tech investors. The tech-heavy Nasdaq Composite jumped 43% over this timeframe...'"
      ]
     },
     "execution_count": 12,
     "metadata": {},
     "output_type": "execute_result"
    }
   ],
   "source": [
    "data_news.Abstract[0]"
   ]
  },
  {
   "cell_type": "code",
   "execution_count": 13,
   "id": "fac378bc-74b1-4199-bd20-9b6dec564b78",
   "metadata": {},
   "outputs": [
    {
     "data": {
      "text/plain": [
       "array(['AAPL'], dtype=object)"
      ]
     },
     "execution_count": 13,
     "metadata": {},
     "output_type": "execute_result"
    }
   ],
   "source": [
    "data_news.Stock.unique()"
   ]
  },
  {
   "cell_type": "code",
   "execution_count": 14,
   "id": "382dfb9c-e4f8-47ce-bdd4-502374602f1e",
   "metadata": {},
   "outputs": [],
   "source": [
    "data_news['Time']  = pd.to_datetime(data_news['Time'])"
   ]
  },
  {
   "cell_type": "code",
   "execution_count": 15,
   "id": "9dbc0e78-32b9-4d67-927b-51364f5b4bd7",
   "metadata": {},
   "outputs": [
    {
     "data": {
      "text/html": [
       "<div>\n",
       "<style scoped>\n",
       "    .dataframe tbody tr th:only-of-type {\n",
       "        vertical-align: middle;\n",
       "    }\n",
       "\n",
       "    .dataframe tbody tr th {\n",
       "        vertical-align: top;\n",
       "    }\n",
       "\n",
       "    .dataframe thead th {\n",
       "        text-align: right;\n",
       "    }\n",
       "</style>\n",
       "<table border=\"1\" class=\"dataframe\">\n",
       "  <thead>\n",
       "    <tr style=\"text-align: right;\">\n",
       "      <th></th>\n",
       "      <th>Publisher</th>\n",
       "      <th>Complete_Title</th>\n",
       "      <th>Abstract</th>\n",
       "      <th>Website</th>\n",
       "      <th>Time</th>\n",
       "      <th>Stock</th>\n",
       "      <th>Exact_Time</th>\n",
       "    </tr>\n",
       "  </thead>\n",
       "  <tbody>\n",
       "    <tr>\n",
       "      <th>0</th>\n",
       "      <td>The Motley Fool</td>\n",
       "      <td>Apple Stock: Buy, Sell, or Hold After Soaring ...</td>\n",
       "      <td>The tech giant is now worth nearly $2.3 trilli...</td>\n",
       "      <td>https://www.fool.com/investing/2021/01/01/appl...</td>\n",
       "      <td>2021-01-01</td>\n",
       "      <td>AAPL</td>\n",
       "      <td>10:05:00</td>\n",
       "    </tr>\n",
       "    <tr>\n",
       "      <th>1</th>\n",
       "      <td>Business Insider</td>\n",
       "      <td>Apple Watch SE favorite purchase of 2020: fitn...</td>\n",
       "      <td>I bought the new Apple Watch SE this fall. ?? ...</td>\n",
       "      <td>https://www.businessinsider.com/apple-watch-se...</td>\n",
       "      <td>2021-01-01</td>\n",
       "      <td>AAPL</td>\n",
       "      <td>8:12:00</td>\n",
       "    </tr>\n",
       "    <tr>\n",
       "      <th>2</th>\n",
       "      <td>Forbes</td>\n",
       "      <td>Apple Fitness Plus: 7 Reasons It Should Be You...</td>\n",
       "      <td>Specifically an iPhone and an Apple Watch. You...</td>\n",
       "      <td>https://www.forbes.com/sites/davidphelan/2021/...</td>\n",
       "      <td>2021-01-02</td>\n",
       "      <td>AAPL</td>\n",
       "      <td>7:00:00</td>\n",
       "    </tr>\n",
       "    <tr>\n",
       "      <th>3</th>\n",
       "      <td>Forbes</td>\n",
       "      <td>Huawei Fallout?????Google, Samsung And Apple F...</td>\n",
       "      <td>Put simply, the downside risks from America bl...</td>\n",
       "      <td>https://www.forbes.com/sites/zakdoffman/2021/0...</td>\n",
       "      <td>2021-01-02</td>\n",
       "      <td>AAPL</td>\n",
       "      <td>18:50:00</td>\n",
       "    </tr>\n",
       "    <tr>\n",
       "      <th>4</th>\n",
       "      <td>The Motley Fool</td>\n",
       "      <td>Bold Prediction: General Motors Is the Next Ap...</td>\n",
       "      <td>Apple has had an incredible turnaround over th...</td>\n",
       "      <td>https://www.fool.com/investing/2021/01/02/bold...</td>\n",
       "      <td>2021-01-02</td>\n",
       "      <td>AAPL</td>\n",
       "      <td>11:54:00</td>\n",
       "    </tr>\n",
       "    <tr>\n",
       "      <th>...</th>\n",
       "      <td>...</td>\n",
       "      <td>...</td>\n",
       "      <td>...</td>\n",
       "      <td>...</td>\n",
       "      <td>...</td>\n",
       "      <td>...</td>\n",
       "      <td>...</td>\n",
       "    </tr>\n",
       "    <tr>\n",
       "      <th>2134</th>\n",
       "      <td>Bloomberg.com</td>\n",
       "      <td>Predictions for 2022: Trump, Blockchain, Tom B...</td>\n",
       "      <td>There will be more melting of the Greenland ic...</td>\n",
       "      <td>https://www.bloomberg.com/opinion/articles/202...</td>\n",
       "      <td>2021-12-29</td>\n",
       "      <td>AAPL</td>\n",
       "      <td>9:00:00</td>\n",
       "    </tr>\n",
       "    <tr>\n",
       "      <th>2135</th>\n",
       "      <td>CNBC</td>\n",
       "      <td>Apple's new fix-it policy is a drop in the buc...</td>\n",
       "      <td>It was an exciting day at iFixit in November 2...</td>\n",
       "      <td>https://www.cnbc.com/2021/12/30/apples-new-fix...</td>\n",
       "      <td>2021-12-30</td>\n",
       "      <td>AAPL</td>\n",
       "      <td>12:01:00</td>\n",
       "    </tr>\n",
       "    <tr>\n",
       "      <th>2136</th>\n",
       "      <td>CNBC</td>\n",
       "      <td>Apple's repair policy is a good but small step...</td>\n",
       "      <td>CNBC first spoke with iFixit CEO Kyle Wiens be...</td>\n",
       "      <td>https://www.cnbc.com/video/2021/12/30/apples-r...</td>\n",
       "      <td>2021-12-30</td>\n",
       "      <td>AAPL</td>\n",
       "      <td>12:00:00</td>\n",
       "    </tr>\n",
       "    <tr>\n",
       "      <th>2137</th>\n",
       "      <td>Forbes</td>\n",
       "      <td>Apple Reveals Dazzling Future For Apple Watch</td>\n",
       "      <td>A future Apple Watch, it's been rumored, will ...</td>\n",
       "      <td>https://www.forbes.com/sites/davidphelan/2021/...</td>\n",
       "      <td>2021-12-30</td>\n",
       "      <td>AAPL</td>\n",
       "      <td>14:00:00</td>\n",
       "    </tr>\n",
       "    <tr>\n",
       "      <th>2138</th>\n",
       "      <td>Reuters</td>\n",
       "      <td>LIVE MARKETS The Apple of the Nasdaq 100's eye</td>\n",
       "      <td>The ratio may need to overwhelm this barrier f...</td>\n",
       "      <td>https://www.reuters.com/markets/asia/live-mark...</td>\n",
       "      <td>2021-12-30</td>\n",
       "      <td>AAPL</td>\n",
       "      <td>8:59:00</td>\n",
       "    </tr>\n",
       "  </tbody>\n",
       "</table>\n",
       "<p>2139 rows × 7 columns</p>\n",
       "</div>"
      ],
      "text/plain": [
       "             Publisher                                     Complete_Title  \\\n",
       "0      The Motley Fool  Apple Stock: Buy, Sell, or Hold After Soaring ...   \n",
       "1     Business Insider  Apple Watch SE favorite purchase of 2020: fitn...   \n",
       "2               Forbes  Apple Fitness Plus: 7 Reasons It Should Be You...   \n",
       "3               Forbes  Huawei Fallout?????Google, Samsung And Apple F...   \n",
       "4      The Motley Fool  Bold Prediction: General Motors Is the Next Ap...   \n",
       "...                ...                                                ...   \n",
       "2134     Bloomberg.com  Predictions for 2022: Trump, Blockchain, Tom B...   \n",
       "2135              CNBC  Apple's new fix-it policy is a drop in the buc...   \n",
       "2136              CNBC  Apple's repair policy is a good but small step...   \n",
       "2137            Forbes      Apple Reveals Dazzling Future For Apple Watch   \n",
       "2138           Reuters     LIVE MARKETS The Apple of the Nasdaq 100's eye   \n",
       "\n",
       "                                               Abstract  \\\n",
       "0     The tech giant is now worth nearly $2.3 trilli...   \n",
       "1     I bought the new Apple Watch SE this fall. ?? ...   \n",
       "2     Specifically an iPhone and an Apple Watch. You...   \n",
       "3     Put simply, the downside risks from America bl...   \n",
       "4     Apple has had an incredible turnaround over th...   \n",
       "...                                                 ...   \n",
       "2134  There will be more melting of the Greenland ic...   \n",
       "2135  It was an exciting day at iFixit in November 2...   \n",
       "2136  CNBC first spoke with iFixit CEO Kyle Wiens be...   \n",
       "2137  A future Apple Watch, it's been rumored, will ...   \n",
       "2138  The ratio may need to overwhelm this barrier f...   \n",
       "\n",
       "                                                Website       Time Stock  \\\n",
       "0     https://www.fool.com/investing/2021/01/01/appl... 2021-01-01  AAPL   \n",
       "1     https://www.businessinsider.com/apple-watch-se... 2021-01-01  AAPL   \n",
       "2     https://www.forbes.com/sites/davidphelan/2021/... 2021-01-02  AAPL   \n",
       "3     https://www.forbes.com/sites/zakdoffman/2021/0... 2021-01-02  AAPL   \n",
       "4     https://www.fool.com/investing/2021/01/02/bold... 2021-01-02  AAPL   \n",
       "...                                                 ...        ...   ...   \n",
       "2134  https://www.bloomberg.com/opinion/articles/202... 2021-12-29  AAPL   \n",
       "2135  https://www.cnbc.com/2021/12/30/apples-new-fix... 2021-12-30  AAPL   \n",
       "2136  https://www.cnbc.com/video/2021/12/30/apples-r... 2021-12-30  AAPL   \n",
       "2137  https://www.forbes.com/sites/davidphelan/2021/... 2021-12-30  AAPL   \n",
       "2138  https://www.reuters.com/markets/asia/live-mark... 2021-12-30  AAPL   \n",
       "\n",
       "     Exact_Time  \n",
       "0      10:05:00  \n",
       "1       8:12:00  \n",
       "2       7:00:00  \n",
       "3      18:50:00  \n",
       "4      11:54:00  \n",
       "...         ...  \n",
       "2134    9:00:00  \n",
       "2135   12:01:00  \n",
       "2136   12:00:00  \n",
       "2137   14:00:00  \n",
       "2138    8:59:00  \n",
       "\n",
       "[2139 rows x 7 columns]"
      ]
     },
     "execution_count": 15,
     "metadata": {},
     "output_type": "execute_result"
    }
   ],
   "source": [
    "data_news"
   ]
  },
  {
   "cell_type": "code",
   "execution_count": 16,
   "id": "22608b05-bf3b-4c34-b930-b21a0c3e7c32",
   "metadata": {},
   "outputs": [],
   "source": [
    "# Find date range\n",
    "min_date_nw = data_news['Time'].min()\n",
    "max_date_nw = data_news['Time'].max()"
   ]
  },
  {
   "cell_type": "code",
   "execution_count": 17,
   "id": "eedaa7fe-c4e7-4e2f-b429-6e82bf9fe839",
   "metadata": {},
   "outputs": [
    {
     "name": "stdout",
     "output_type": "stream",
     "text": [
      "Date range: 2021-01-01 00:00:00 to 2021-12-30 00:00:00\n"
     ]
    }
   ],
   "source": [
    "# Print date range\n",
    "print(f\"Date range: {min_date_nw} to {max_date_nw}\")"
   ]
  },
  {
   "cell_type": "markdown",
   "id": "42aa7b71-15eb-4ef6-8cb9-4a2f12d2d117",
   "metadata": {},
   "source": [
    "#### Tweets"
   ]
  },
  {
   "cell_type": "code",
   "execution_count": 18,
   "id": "d431c5c0-271c-40c0-9bcd-ab7a181a4699",
   "metadata": {},
   "outputs": [
    {
     "data": {
      "text/plain": [
       "'@peregreine Price target for Apple for Jan/feb? Trying to decide between $aapl and $amzn when I trim my $tsla gains'"
      ]
     },
     "execution_count": 18,
     "metadata": {},
     "output_type": "execute_result"
    }
   ],
   "source": [
    "data_tweets.tweet[0]"
   ]
  },
  {
   "cell_type": "code",
   "execution_count": 19,
   "id": "cccc5c88-9bd8-4046-93b7-97b2d5548e9f",
   "metadata": {},
   "outputs": [],
   "source": [
    "data_tweets['date']  = pd.to_datetime(data_tweets['date'])"
   ]
  },
  {
   "cell_type": "code",
   "execution_count": 20,
   "id": "f03943b5-4028-4005-bad0-7372b3d2da7b",
   "metadata": {},
   "outputs": [],
   "source": [
    "# Find date range\n",
    "min_date_tw = data_tweets['date'].min()\n",
    "max_date_tw = data_tweets['date'].max()"
   ]
  },
  {
   "cell_type": "code",
   "execution_count": 21,
   "id": "ff750d8d-e426-4668-b0e3-b4234b554043",
   "metadata": {},
   "outputs": [
    {
     "name": "stdout",
     "output_type": "stream",
     "text": [
      "Date range: 2021-01-01 00:00:00 to 2021-12-30 00:00:00\n"
     ]
    }
   ],
   "source": [
    "# Print date range\n",
    "print(f\"Date range: {min_date_tw} to {max_date_tw}\")"
   ]
  },
  {
   "cell_type": "markdown",
   "id": "ec8d8a9e-4e1d-4d98-8357-e18b1a56cd3d",
   "metadata": {},
   "source": [
    "# 4. Data Pre-Processing"
   ]
  },
  {
   "cell_type": "markdown",
   "id": "1709934b-90ec-4268-83da-9258c8119203",
   "metadata": {},
   "source": [
    "### 4.1 Prepare for Pre-Processing"
   ]
  },
  {
   "cell_type": "code",
   "execution_count": 22,
   "id": "cefd99e3-20a6-4387-b62b-26cae8a6a6e9",
   "metadata": {},
   "outputs": [],
   "source": [
    "dn_copy = data_news.copy()"
   ]
  },
  {
   "cell_type": "code",
   "execution_count": 23,
   "id": "11da33a3-85d0-49ac-9400-b71b048ceb25",
   "metadata": {},
   "outputs": [],
   "source": [
    "dt_copy = data_tweets.copy()"
   ]
  },
  {
   "cell_type": "code",
   "execution_count": 24,
   "id": "bb6f940e-e9f4-49ee-b767-7ef5789acd60",
   "metadata": {},
   "outputs": [],
   "source": [
    "# Rename the columns\n",
    "dn_copy.rename(columns={'Time': 'date', 'Abstract': 'data'}, inplace=True)"
   ]
  },
  {
   "cell_type": "code",
   "execution_count": 25,
   "id": "d32e92a8-205a-4eaf-b7ae-c275ae871b9c",
   "metadata": {},
   "outputs": [],
   "source": [
    "# Rename the columns\n",
    "dt_copy.rename(columns={'tweet': 'data'}, inplace=True)"
   ]
  },
  {
   "cell_type": "markdown",
   "id": "5483efed-c643-4ff3-a265-e1f1d12bee38",
   "metadata": {},
   "source": [
    "### 4.2 Filter Required Columns"
   ]
  },
  {
   "cell_type": "code",
   "execution_count": 26,
   "id": "98c356c7-f558-4960-bbd3-235798f663d8",
   "metadata": {},
   "outputs": [],
   "source": [
    "dn_copy = dn_copy[['date', 'data']]"
   ]
  },
  {
   "cell_type": "code",
   "execution_count": 27,
   "id": "887ff643-af22-48f8-b019-2b06d60fbbfb",
   "metadata": {},
   "outputs": [
    {
     "data": {
      "text/html": [
       "<div>\n",
       "<style scoped>\n",
       "    .dataframe tbody tr th:only-of-type {\n",
       "        vertical-align: middle;\n",
       "    }\n",
       "\n",
       "    .dataframe tbody tr th {\n",
       "        vertical-align: top;\n",
       "    }\n",
       "\n",
       "    .dataframe thead th {\n",
       "        text-align: right;\n",
       "    }\n",
       "</style>\n",
       "<table border=\"1\" class=\"dataframe\">\n",
       "  <thead>\n",
       "    <tr style=\"text-align: right;\">\n",
       "      <th></th>\n",
       "      <th>date</th>\n",
       "      <th>data</th>\n",
       "    </tr>\n",
       "  </thead>\n",
       "  <tbody>\n",
       "    <tr>\n",
       "      <th>0</th>\n",
       "      <td>2021-01-01</td>\n",
       "      <td>The tech giant is now worth nearly $2.3 trilli...</td>\n",
       "    </tr>\n",
       "    <tr>\n",
       "      <th>1</th>\n",
       "      <td>2021-01-01</td>\n",
       "      <td>I bought the new Apple Watch SE this fall. ?? ...</td>\n",
       "    </tr>\n",
       "    <tr>\n",
       "      <th>2</th>\n",
       "      <td>2021-01-02</td>\n",
       "      <td>Specifically an iPhone and an Apple Watch. You...</td>\n",
       "    </tr>\n",
       "  </tbody>\n",
       "</table>\n",
       "</div>"
      ],
      "text/plain": [
       "        date                                               data\n",
       "0 2021-01-01  The tech giant is now worth nearly $2.3 trilli...\n",
       "1 2021-01-01  I bought the new Apple Watch SE this fall. ?? ...\n",
       "2 2021-01-02  Specifically an iPhone and an Apple Watch. You..."
      ]
     },
     "execution_count": 27,
     "metadata": {},
     "output_type": "execute_result"
    }
   ],
   "source": [
    "dn_copy.head(3)"
   ]
  },
  {
   "cell_type": "code",
   "execution_count": 28,
   "id": "f0a91cdc-1850-4fe3-8c91-8069116a02c4",
   "metadata": {},
   "outputs": [],
   "source": [
    "dt_copy = dt_copy[['date', 'data']]"
   ]
  },
  {
   "cell_type": "code",
   "execution_count": 29,
   "id": "9a9b5cf6-d8e1-46f4-b3f0-d5323f6b3580",
   "metadata": {},
   "outputs": [
    {
     "data": {
      "text/html": [
       "<div>\n",
       "<style scoped>\n",
       "    .dataframe tbody tr th:only-of-type {\n",
       "        vertical-align: middle;\n",
       "    }\n",
       "\n",
       "    .dataframe tbody tr th {\n",
       "        vertical-align: top;\n",
       "    }\n",
       "\n",
       "    .dataframe thead th {\n",
       "        text-align: right;\n",
       "    }\n",
       "</style>\n",
       "<table border=\"1\" class=\"dataframe\">\n",
       "  <thead>\n",
       "    <tr style=\"text-align: right;\">\n",
       "      <th></th>\n",
       "      <th>date</th>\n",
       "      <th>data</th>\n",
       "    </tr>\n",
       "  </thead>\n",
       "  <tbody>\n",
       "    <tr>\n",
       "      <th>0</th>\n",
       "      <td>2021-01-01</td>\n",
       "      <td>@peregreine Price target for Apple for Jan/feb...</td>\n",
       "    </tr>\n",
       "    <tr>\n",
       "      <th>1</th>\n",
       "      <td>2021-01-01</td>\n",
       "      <td>$AAPL looks good if it can clear 133 for 135, ...</td>\n",
       "    </tr>\n",
       "    <tr>\n",
       "      <th>2</th>\n",
       "      <td>2021-01-01</td>\n",
       "      <td>@tim_cook I ordered an Apple MacBook Air two w...</td>\n",
       "    </tr>\n",
       "  </tbody>\n",
       "</table>\n",
       "</div>"
      ],
      "text/plain": [
       "        date                                               data\n",
       "0 2021-01-01  @peregreine Price target for Apple for Jan/feb...\n",
       "1 2021-01-01  $AAPL looks good if it can clear 133 for 135, ...\n",
       "2 2021-01-01  @tim_cook I ordered an Apple MacBook Air two w..."
      ]
     },
     "execution_count": 29,
     "metadata": {},
     "output_type": "execute_result"
    }
   ],
   "source": [
    "dt_copy.head(3)"
   ]
  },
  {
   "cell_type": "markdown",
   "id": "6d2076f2-9137-4a97-b753-b886fc2be36a",
   "metadata": {},
   "source": [
    "### 4.2 Lowercasing"
   ]
  },
  {
   "cell_type": "code",
   "execution_count": 30,
   "id": "6381bfb1-e307-4935-b2ea-4ea26effc2a8",
   "metadata": {},
   "outputs": [],
   "source": [
    "def convert_column_to_lowercase(df, column_name):\n",
    "    \"\"\"\n",
    "    Convert the specified column of a DataFrame to lowercase.\n",
    "    \n",
    "    Parameters:\n",
    "    df (pd.DataFrame): The DataFrame containing the column to be modified.\n",
    "    column_name (str): The name of the column to convert to lowercase.\n",
    "    \n",
    "    Returns:\n",
    "    pd.DataFrame: The DataFrame with the specified column converted to lowercase.\n",
    "    \"\"\"\n",
    "    df[column_name] = df[column_name].str.lower()\n",
    "    return df"
   ]
  },
  {
   "cell_type": "code",
   "execution_count": 31,
   "id": "4bb1a458-6b01-4897-a9be-8dab7abff44a",
   "metadata": {},
   "outputs": [],
   "source": [
    "dn_copy = convert_column_to_lowercase(dn_copy, 'data')"
   ]
  },
  {
   "cell_type": "code",
   "execution_count": 32,
   "id": "a28a7c6a-6596-46c8-b765-9eaddd94d5df",
   "metadata": {},
   "outputs": [],
   "source": [
    "dt_copy = convert_column_to_lowercase(dt_copy, 'data')"
   ]
  },
  {
   "cell_type": "code",
   "execution_count": 33,
   "id": "0f7d5338-683a-4ab8-8213-51265ad05662",
   "metadata": {},
   "outputs": [
    {
     "data": {
      "text/html": [
       "<div>\n",
       "<style scoped>\n",
       "    .dataframe tbody tr th:only-of-type {\n",
       "        vertical-align: middle;\n",
       "    }\n",
       "\n",
       "    .dataframe tbody tr th {\n",
       "        vertical-align: top;\n",
       "    }\n",
       "\n",
       "    .dataframe thead th {\n",
       "        text-align: right;\n",
       "    }\n",
       "</style>\n",
       "<table border=\"1\" class=\"dataframe\">\n",
       "  <thead>\n",
       "    <tr style=\"text-align: right;\">\n",
       "      <th></th>\n",
       "      <th>date</th>\n",
       "      <th>data</th>\n",
       "    </tr>\n",
       "  </thead>\n",
       "  <tbody>\n",
       "    <tr>\n",
       "      <th>0</th>\n",
       "      <td>2021-01-01</td>\n",
       "      <td>the tech giant is now worth nearly $2.3 trilli...</td>\n",
       "    </tr>\n",
       "    <tr>\n",
       "      <th>1</th>\n",
       "      <td>2021-01-01</td>\n",
       "      <td>i bought the new apple watch se this fall. ?? ...</td>\n",
       "    </tr>\n",
       "    <tr>\n",
       "      <th>2</th>\n",
       "      <td>2021-01-02</td>\n",
       "      <td>specifically an iphone and an apple watch. you...</td>\n",
       "    </tr>\n",
       "  </tbody>\n",
       "</table>\n",
       "</div>"
      ],
      "text/plain": [
       "        date                                               data\n",
       "0 2021-01-01  the tech giant is now worth nearly $2.3 trilli...\n",
       "1 2021-01-01  i bought the new apple watch se this fall. ?? ...\n",
       "2 2021-01-02  specifically an iphone and an apple watch. you..."
      ]
     },
     "execution_count": 33,
     "metadata": {},
     "output_type": "execute_result"
    }
   ],
   "source": [
    "dn_copy.head(3)"
   ]
  },
  {
   "cell_type": "code",
   "execution_count": 34,
   "id": "2a266b53-9c30-4bf8-a99b-54df3472c8f9",
   "metadata": {},
   "outputs": [
    {
     "data": {
      "text/html": [
       "<div>\n",
       "<style scoped>\n",
       "    .dataframe tbody tr th:only-of-type {\n",
       "        vertical-align: middle;\n",
       "    }\n",
       "\n",
       "    .dataframe tbody tr th {\n",
       "        vertical-align: top;\n",
       "    }\n",
       "\n",
       "    .dataframe thead th {\n",
       "        text-align: right;\n",
       "    }\n",
       "</style>\n",
       "<table border=\"1\" class=\"dataframe\">\n",
       "  <thead>\n",
       "    <tr style=\"text-align: right;\">\n",
       "      <th></th>\n",
       "      <th>date</th>\n",
       "      <th>data</th>\n",
       "    </tr>\n",
       "  </thead>\n",
       "  <tbody>\n",
       "    <tr>\n",
       "      <th>0</th>\n",
       "      <td>2021-01-01</td>\n",
       "      <td>@peregreine price target for apple for jan/feb...</td>\n",
       "    </tr>\n",
       "    <tr>\n",
       "      <th>1</th>\n",
       "      <td>2021-01-01</td>\n",
       "      <td>$aapl looks good if it can clear 133 for 135, ...</td>\n",
       "    </tr>\n",
       "    <tr>\n",
       "      <th>2</th>\n",
       "      <td>2021-01-01</td>\n",
       "      <td>@tim_cook i ordered an apple macbook air two w...</td>\n",
       "    </tr>\n",
       "  </tbody>\n",
       "</table>\n",
       "</div>"
      ],
      "text/plain": [
       "        date                                               data\n",
       "0 2021-01-01  @peregreine price target for apple for jan/feb...\n",
       "1 2021-01-01  $aapl looks good if it can clear 133 for 135, ...\n",
       "2 2021-01-01  @tim_cook i ordered an apple macbook air two w..."
      ]
     },
     "execution_count": 34,
     "metadata": {},
     "output_type": "execute_result"
    }
   ],
   "source": [
    "dt_copy.head(3)"
   ]
  },
  {
   "cell_type": "markdown",
   "id": "6695d705-7d52-4ff9-8e86-57ab01bd01e3",
   "metadata": {},
   "source": [
    "### 4.4 Removing puctuations"
   ]
  },
  {
   "cell_type": "code",
   "execution_count": 35,
   "id": "3ba2dda6-404b-423f-b610-ee66f5afdd60",
   "metadata": {},
   "outputs": [],
   "source": [
    "def remove_punctuation(df, column_name):\n",
    "    \"\"\"\n",
    "    Remove punctuation from the specified column of a DataFrame.\n",
    "    \n",
    "    Parameters:\n",
    "    df (pd.DataFrame): The DataFrame containing the column with punctuation.\n",
    "    column_name (str): The name of the column from which punctuation will be removed.\n",
    "    \n",
    "    Returns:\n",
    "    pd.DataFrame: The DataFrame with punctuation removed from the specified column.\n",
    "    \"\"\"\n",
    "    df[column_name] = df[column_name].str.translate(str.maketrans('', '', string.punctuation))\n",
    "    return df"
   ]
  },
  {
   "cell_type": "code",
   "execution_count": 36,
   "id": "c570cfdb-366b-4e7e-9369-1410e39b2b0b",
   "metadata": {},
   "outputs": [],
   "source": [
    "dn_copy = remove_punctuation(dn_copy, 'data')"
   ]
  },
  {
   "cell_type": "code",
   "execution_count": 37,
   "id": "806c879c-545c-4012-86f6-7b551968fd19",
   "metadata": {},
   "outputs": [],
   "source": [
    "dt_copy = remove_punctuation(dt_copy, 'data')"
   ]
  },
  {
   "cell_type": "code",
   "execution_count": 38,
   "id": "2d5a8f50-00db-43dc-bf64-45ba0fb9568a",
   "metadata": {},
   "outputs": [],
   "source": [
    "dn_copy.to_csv('./outputs/data_news.csv', index=False)"
   ]
  },
  {
   "cell_type": "code",
   "execution_count": 39,
   "id": "a9598323-2118-40c4-8fb9-9743ca46fcda",
   "metadata": {},
   "outputs": [],
   "source": [
    "dt_copy.to_csv('./outputs/data_tweets.csv', index=False)"
   ]
  },
  {
   "cell_type": "markdown",
   "id": "c16c687f-abb8-4916-af2c-520404c4e52b",
   "metadata": {},
   "source": [
    "## APPROACH 1 - Using VADER on Aggrigated Dataset"
   ]
  },
  {
   "cell_type": "markdown",
   "id": "fb9a40be-1870-4575-9a59-08f1cc3e95cf",
   "metadata": {},
   "source": [
    "### 4.5 Merge Datasets"
   ]
  },
  {
   "cell_type": "code",
   "execution_count": 40,
   "id": "34b5e0ab-3c7b-4ae7-9ca1-162cf0f58893",
   "metadata": {},
   "outputs": [],
   "source": [
    "merged_data = pd.concat([dn_copy, dt_copy], ignore_index=True)"
   ]
  },
  {
   "cell_type": "code",
   "execution_count": 41,
   "id": "13c4e429-ef7f-42ed-8be2-53fdd6bfb955",
   "metadata": {},
   "outputs": [
    {
     "data": {
      "text/plain": [
       "(116792, 2)"
      ]
     },
     "execution_count": 41,
     "metadata": {},
     "output_type": "execute_result"
    }
   ],
   "source": [
    "merged_data.shape"
   ]
  },
  {
   "cell_type": "code",
   "execution_count": 42,
   "id": "55b19d38-1fae-4723-a9e6-fde8d38ac983",
   "metadata": {},
   "outputs": [
    {
     "data": {
      "text/html": [
       "<div>\n",
       "<style scoped>\n",
       "    .dataframe tbody tr th:only-of-type {\n",
       "        vertical-align: middle;\n",
       "    }\n",
       "\n",
       "    .dataframe tbody tr th {\n",
       "        vertical-align: top;\n",
       "    }\n",
       "\n",
       "    .dataframe thead th {\n",
       "        text-align: right;\n",
       "    }\n",
       "</style>\n",
       "<table border=\"1\" class=\"dataframe\">\n",
       "  <thead>\n",
       "    <tr style=\"text-align: right;\">\n",
       "      <th></th>\n",
       "      <th>date</th>\n",
       "      <th>data</th>\n",
       "    </tr>\n",
       "  </thead>\n",
       "  <tbody>\n",
       "    <tr>\n",
       "      <th>0</th>\n",
       "      <td>2021-01-01</td>\n",
       "      <td>the tech giant is now worth nearly 23 trillion...</td>\n",
       "    </tr>\n",
       "    <tr>\n",
       "      <th>1</th>\n",
       "      <td>2021-01-01</td>\n",
       "      <td>i bought the new apple watch se this fall  the...</td>\n",
       "    </tr>\n",
       "    <tr>\n",
       "      <th>2</th>\n",
       "      <td>2021-01-02</td>\n",
       "      <td>specifically an iphone and an apple watch you ...</td>\n",
       "    </tr>\n",
       "    <tr>\n",
       "      <th>3</th>\n",
       "      <td>2021-01-02</td>\n",
       "      <td>put simply the downside risks from america bla...</td>\n",
       "    </tr>\n",
       "    <tr>\n",
       "      <th>4</th>\n",
       "      <td>2021-01-02</td>\n",
       "      <td>apple has had an incredible turnaround over th...</td>\n",
       "    </tr>\n",
       "  </tbody>\n",
       "</table>\n",
       "</div>"
      ],
      "text/plain": [
       "        date                                               data\n",
       "0 2021-01-01  the tech giant is now worth nearly 23 trillion...\n",
       "1 2021-01-01  i bought the new apple watch se this fall  the...\n",
       "2 2021-01-02  specifically an iphone and an apple watch you ...\n",
       "3 2021-01-02  put simply the downside risks from america bla...\n",
       "4 2021-01-02  apple has had an incredible turnaround over th..."
      ]
     },
     "execution_count": 42,
     "metadata": {},
     "output_type": "execute_result"
    }
   ],
   "source": [
    "merged_data.head()"
   ]
  },
  {
   "cell_type": "code",
   "execution_count": 43,
   "id": "c8bf5bab-8ca0-4ac4-b6c0-b218ee7fde65",
   "metadata": {},
   "outputs": [
    {
     "data": {
      "text/html": [
       "<div>\n",
       "<style scoped>\n",
       "    .dataframe tbody tr th:only-of-type {\n",
       "        vertical-align: middle;\n",
       "    }\n",
       "\n",
       "    .dataframe tbody tr th {\n",
       "        vertical-align: top;\n",
       "    }\n",
       "\n",
       "    .dataframe thead th {\n",
       "        text-align: right;\n",
       "    }\n",
       "</style>\n",
       "<table border=\"1\" class=\"dataframe\">\n",
       "  <thead>\n",
       "    <tr style=\"text-align: right;\">\n",
       "      <th></th>\n",
       "      <th>date</th>\n",
       "      <th>data</th>\n",
       "    </tr>\n",
       "  </thead>\n",
       "  <tbody>\n",
       "    <tr>\n",
       "      <th>116787</th>\n",
       "      <td>2021-12-30</td>\n",
       "      <td>bigsollu investorinstonk lots of unanswered qu...</td>\n",
       "    </tr>\n",
       "    <tr>\n",
       "      <th>116788</th>\n",
       "      <td>2021-12-30</td>\n",
       "      <td>goodiegood tsla dip into earnings then rip aap...</td>\n",
       "    </tr>\n",
       "    <tr>\n",
       "      <th>116789</th>\n",
       "      <td>2021-12-30</td>\n",
       "      <td>bulltrendz damn i wish i saw this earlier   mi...</td>\n",
       "    </tr>\n",
       "    <tr>\n",
       "      <th>116790</th>\n",
       "      <td>2021-12-30</td>\n",
       "      <td>aapl apple to release special beats studio bud...</td>\n",
       "    </tr>\n",
       "    <tr>\n",
       "      <th>116791</th>\n",
       "      <td>2021-12-30</td>\n",
       "      <td>aapl way oversold</td>\n",
       "    </tr>\n",
       "  </tbody>\n",
       "</table>\n",
       "</div>"
      ],
      "text/plain": [
       "             date                                               data\n",
       "116787 2021-12-30  bigsollu investorinstonk lots of unanswered qu...\n",
       "116788 2021-12-30  goodiegood tsla dip into earnings then rip aap...\n",
       "116789 2021-12-30  bulltrendz damn i wish i saw this earlier   mi...\n",
       "116790 2021-12-30  aapl apple to release special beats studio bud...\n",
       "116791 2021-12-30                                 aapl way oversold "
      ]
     },
     "execution_count": 43,
     "metadata": {},
     "output_type": "execute_result"
    }
   ],
   "source": [
    "merged_data.tail()"
   ]
  },
  {
   "cell_type": "code",
   "execution_count": 44,
   "id": "0751484b-120e-4be9-87f6-2fa2a6a7d066",
   "metadata": {},
   "outputs": [],
   "source": [
    "# Find date range\n",
    "min_date_md = merged_data['date'].min()\n",
    "max_date_md = merged_data['date'].max()"
   ]
  },
  {
   "cell_type": "code",
   "execution_count": 45,
   "id": "104e3951-7527-4936-a1e1-322492c5c6de",
   "metadata": {},
   "outputs": [
    {
     "name": "stdout",
     "output_type": "stream",
     "text": [
      "Date range: 2021-01-01 00:00:00 to 2021-12-30 00:00:00\n"
     ]
    }
   ],
   "source": [
    "# Print date range\n",
    "print(f\"Date range: {min_date_tw} to {max_date_tw}\")"
   ]
  },
  {
   "cell_type": "markdown",
   "id": "32c1189e-c6e4-4f84-be37-61a521d9454e",
   "metadata": {},
   "source": [
    "### 4.6. Aggregate Data"
   ]
  },
  {
   "cell_type": "code",
   "execution_count": 46,
   "id": "163eacdc-429f-44ff-86dd-bbbe46a9065c",
   "metadata": {},
   "outputs": [],
   "source": [
    "# Group by 'date' and aggregate 'data' values into a single string separated by spaces\n",
    "grouped_data = merged_data.groupby('date')['data'].apply(lambda x: ' '.join(x)).reset_index()\n"
   ]
  },
  {
   "cell_type": "code",
   "execution_count": 47,
   "id": "cc4e918b-b818-4835-a314-f57b43747638",
   "metadata": {},
   "outputs": [
    {
     "data": {
      "text/plain": [
       "'the tech giant is now worth nearly 23 trillion 2020 was an astounding year for tech investors the techheavy nasdaq composite jumped 43 over this timeframe i bought the new apple watch se this fall  the smart watch was my most useful purchase of 2020  the fitness tools customization options and audio control peregreine price target for apple for janfeb trying to decide between aapl and amzn when i trim my tsla gains aapl looks good if it can clear 133 for 135 137 timcook i ordered an apple macbook air two weeks ago and still hasnt arrived q4 sales must be amazing aapl apple cost short sellers 7 billion this yr aapl tesla bears lost in excess of 38 billion  tsla  lessons   never bring ur hatred for someone to the stockmarket elonmodi or trump  always have an exit plan irrespective of who u are druckenmiler eisman or einhorn investing will aapl hit 250 by 2022 postmarket aapl long rvvtfm aapl m1 chip is a game changer apple car news in 2021 wagersolution hipstertrader realdonaldtrump aapl  my conspiracy theory is that general liquidity by fed is targeted per authority preference imessage is by far the greatest contribution to aapl growth in the past 10 years postmarket doesn€t that hinge almost entirely on how aapl performs 67 of the sampp but over 50 of the berkshire portfolio solbrah no facebook fb apple iphones aapl or paypal pypl for 2021i can do this  steveng72698241 alas part of my aapl thesis was the fact that steve jobs was actually dead apple hopes to have its car platform ready by 2024 many evs with blackberry platform are already rolling out in 2021 apple valued at over 2 trillion  while blackberry valued at just 3b  bb aapl wsj business reuters bgr  cnbc  verge ap jimcramer  madmoneyoncnbc marketrebels munstergene is arguably one of the smartest analystsinvestors talking about aapl tsla  i have to admit i became a believer in tsla by listening to genemunster   if you€re not following  listening to him you€re missing out stimmy check going straight to 5 aapl shares on a dip alphacharts365 how far do you think aapl will pullback i€m hoping it€s about done and starts retesting the highs again man aapl returned 82 this year that€s insane considering its market cap aapl pe ending 20130630 was 873 current pe of apple is 4137 as of 112021  i don€t wish for a bear market but the next bear market will be most treacherous one spy qqq investment trendspiderj how seriously can aapl €making it own cpu€ affect amd on the long run the best stocks in my portfolio in 2020 that i invested in was nio tsla and aapl in that order  let€s see what 2021 has to offer  heartdoctesla 1 i agree but market may overreact to 499k amp have major sell off next week by missing 500k targeti am long on tsla for at least next 10 years but i will get very depressed if we get a major 15 to 20 retractionif it retracts below 600 then i will look to sell more aapl paxtrader777 buying aapl back in 2005 still holding allstreetswolf titantradingca aapl up 8069 ytd mint is a fool apple fitness on your phone will not mirror to an airplayenabled tv more outrageous monopolistic dominance given these tv manufacturers paid aapl to have this technology amp consumers chose the tv in part for airplay the 3 second countdown is on screen then black dhh from 1 our trader happy new year everyone hope this next one is a great one for everyone i havent been trading much as i decided to hold ba shares longgg and aapl and it has been a nice ride  i had covid back in marchapril and it was baddddd 28delayslater actually the only one that kind of compares to tsla is aapl in the rate of innovation the kind of superhuman leader elonmusk  amp jobs and the level of following looks like tesla is on the way to becoming a super company as weve never seen before imo reddogt3 yep  but best calls of 2020 were goldman sachs twice reiterating their sell on aapl  happy new year what say the public retweeting will get more poll data   what impact will the blm decision have on lac sp in near term  lithium evs tsla aapl tsla has a market cap of almost 700 billion but never forget that brk has by far the largest book value of any company in world only other company that could be close is aapl stonkscheer aapl  so experience similar to the cause level karma  jealousyof womenis the experience similar to the cause soin the past you made others jealous of womenwhoch would then mean i bought a lot of aapl contracts on that dip  woonomic those prices give btc a bigger market capitalisation then aapl and will pose a to big risk to fail to the market  governments will not allow this to happen call me nostradamus people got their stimulus money this weekend i predict aapl and tsla going up on monday trendspiderj twtr aapl xlk im in leap calls for them so i would love to see your ta securities im thinking of adding in 2021 pt5  rad  think they have great management and looking for a solid rebound over next year  aapl  its 2021 u dont need a reason to like apple  wix  think they have the best software in this market and this service will be in demand karenfinerman thanks to this post aapl had added hdtv personal cameras to their accessories for 2021 newmarket garcapital aapl bullish right here firegrowth thanks this will be to build on current and not rotation 25 of my portfolio pays dividends gets interesting over time as you reinvest them and companies increase them eg yield on aapl is now 5 on original cost 6 on sbux 20 on ulvr  and this will continue to grow motivationedits 3m thinking about more ppl aapl is a bit too expensive for me although really pleased w the position i have 2020 was a year of focusing on my core so i wanted to close out on that note but mmm is now close to a fullsized position for me  disc i€m long ppl aapl amp mmm why didnt they call apple pear i like pears aapl aapl sold our 2015 imac last week and today bought 2020 imac for our photography  i€m sure the m1 chip is outstanding but we didn€t want to wait 12 years for it to come out on imacs and i like to see bugs worked out on new tech before committing to it happy new year all aapl twitter sentiment on 31 dec 2020 was  positive 444  negative 124  neutral 433  what is the feeling if aapl is gonna beat earnings jan26th looks like i fat fingered my previous ytd calc and underestimated my isa ytd final numbers for 2020  isa 9 sipp 19  isa is 95 of my pf  top 10 holdings make up 53 of my isa pf som air rdsb brck lok aapl ketl adbe vod cpx 4rthr i dont because i dont keep daily data as a guess mainly due to the weighting of tsla and aapl id suggest 30  35 aapl dec31 13200 calls option volume up 21047   volume 37744 vs 12157 while google has not announced any visualsearch adproducts yet its likely those will happen when visual search becomes more established ar elements may be incorporated into them digitalmarketing ecommerce mcommerce retail mobilemarketing armarketing aapl goog visualsearch lets users identify itemsplaces w their cameras offers infolinks  also expanding google said its visual search tool lens can identify 15b objects in oct vs 1b in 2018 digitalmarketing ecommerce mcommerce mobilemarketing armarketing aapl goog consumers r starting 2 see ads incl ar features such as testing lipstick or inserting cars into pictures digitalmarketing ecommerce mcommerce retail retailmarketing mobilemarketing armarketing aapl lidar will reduce effort needed 2 measure rooms spatial dimensions place objects at scale in rt place making ar more accessible 4 the mobile user digitalmarketing ecommerce mcommerce retail retailmarketing mobilemarketing armarketing aapl via arinsider info b4 iphone12 was released ar advertising grew from 05b 2019 global revs to 141b in 2020 exp 2 b 8b by end of 2024 bc socialmediaadvertising incl snapchatlenses digitalmarketing ecommerce mcommerce mobilemarketing armarketing aapl snap iphone12pro  1st phone 2 hav backfacing light detection amp ranging lidar camera enabling more sophisticated augmentedreality  ar  should supercharge mobilear spending make ads more feasible digitalmarketing ecommerce mcommerce mobilemarketing armarketing aapl iedubc ashleysuperfly sensanders so how will you stop it confiscation  nationalize aapl amzn and others    tax the rich ie anyone richer than yourself physical mental and financial health on  this year happynewyear nio aapl to the €  also aapl ui trying to autocorrect €masterbation€ to €master nation€ is way more fucked up than just letting me just type masterbation without questioning it heydave7 happy and healthy new year may this 2021 bring  some aapl to you  luoshengpeng i believe you win with stocks like aapl msft and nio and others invents in them don€t trade them have you thought how we can win wall street  certainly not for stocks like aapl or tsla not even nio not abt analyses not abt intuition no chance  what is it'"
      ]
     },
     "execution_count": 47,
     "metadata": {},
     "output_type": "execute_result"
    }
   ],
   "source": [
    "grouped_data.data[0]"
   ]
  },
  {
   "cell_type": "markdown",
   "id": "aef73539-62c9-490e-af19-003389a1dcf2",
   "metadata": {},
   "source": [
    "### 4.7 Tokenizing"
   ]
  },
  {
   "cell_type": "code",
   "execution_count": 48,
   "id": "13ef6c08-dd1a-40a2-a7cf-7e6a4cd3426f",
   "metadata": {},
   "outputs": [],
   "source": [
    "def tokenize_column(df, column_name):\n",
    "    \"\"\"\n",
    "    Tokenize words in the specified column of a DataFrame.\n",
    "    \n",
    "    Parameters:\n",
    "    df (pd.DataFrame): The DataFrame containing the column to be tokenized.\n",
    "    column_name (str): The name of the column to tokenize.\n",
    "    \n",
    "    Returns:\n",
    "    pd.DataFrame: The DataFrame with the tokenized words saved in a new column.\n",
    "    \"\"\"\n",
    "    # Tokenize words in the specified column\n",
    "    df[column_name + '_tokenized'] = df[column_name].apply(nltk.word_tokenize)\n",
    "    return df"
   ]
  },
  {
   "cell_type": "code",
   "execution_count": 49,
   "id": "75740f96-3ff4-43c9-b1e0-1fccb5859591",
   "metadata": {},
   "outputs": [],
   "source": [
    "grouped_data = tokenize_column(grouped_data, 'data')"
   ]
  },
  {
   "cell_type": "code",
   "execution_count": 50,
   "id": "9b2ae814-fbad-478c-aa46-584a39aaf7f7",
   "metadata": {},
   "outputs": [
    {
     "data": {
      "text/html": [
       "<div>\n",
       "<style scoped>\n",
       "    .dataframe tbody tr th:only-of-type {\n",
       "        vertical-align: middle;\n",
       "    }\n",
       "\n",
       "    .dataframe tbody tr th {\n",
       "        vertical-align: top;\n",
       "    }\n",
       "\n",
       "    .dataframe thead th {\n",
       "        text-align: right;\n",
       "    }\n",
       "</style>\n",
       "<table border=\"1\" class=\"dataframe\">\n",
       "  <thead>\n",
       "    <tr style=\"text-align: right;\">\n",
       "      <th></th>\n",
       "      <th>date</th>\n",
       "      <th>data</th>\n",
       "      <th>data_tokenized</th>\n",
       "    </tr>\n",
       "  </thead>\n",
       "  <tbody>\n",
       "    <tr>\n",
       "      <th>0</th>\n",
       "      <td>2021-01-01</td>\n",
       "      <td>the tech giant is now worth nearly 23 trillion...</td>\n",
       "      <td>[the, tech, giant, is, now, worth, nearly, 23,...</td>\n",
       "    </tr>\n",
       "    <tr>\n",
       "      <th>1</th>\n",
       "      <td>2021-01-02</td>\n",
       "      <td>specifically an iphone and an apple watch you ...</td>\n",
       "      <td>[specifically, an, iphone, and, an, apple, wat...</td>\n",
       "    </tr>\n",
       "    <tr>\n",
       "      <th>2</th>\n",
       "      <td>2021-01-03</td>\n",
       "      <td>according to apple data linked to you means th...</td>\n",
       "      <td>[according, to, apple, data, linked, to, you, ...</td>\n",
       "    </tr>\n",
       "  </tbody>\n",
       "</table>\n",
       "</div>"
      ],
      "text/plain": [
       "        date                                               data  \\\n",
       "0 2021-01-01  the tech giant is now worth nearly 23 trillion...   \n",
       "1 2021-01-02  specifically an iphone and an apple watch you ...   \n",
       "2 2021-01-03  according to apple data linked to you means th...   \n",
       "\n",
       "                                      data_tokenized  \n",
       "0  [the, tech, giant, is, now, worth, nearly, 23,...  \n",
       "1  [specifically, an, iphone, and, an, apple, wat...  \n",
       "2  [according, to, apple, data, linked, to, you, ...  "
      ]
     },
     "execution_count": 50,
     "metadata": {},
     "output_type": "execute_result"
    }
   ],
   "source": [
    "grouped_data.head(3)"
   ]
  },
  {
   "cell_type": "markdown",
   "id": "75922f7a-c689-40bd-8720-a27168287ad5",
   "metadata": {},
   "source": [
    "### 4.8 Remove Stopwords"
   ]
  },
  {
   "cell_type": "code",
   "execution_count": 51,
   "id": "b6861699-1a55-4864-9f0e-7a0d7455cd66",
   "metadata": {},
   "outputs": [],
   "source": [
    "en_stopwords = set(nltk.corpus.stopwords.words('english'))"
   ]
  },
  {
   "cell_type": "code",
   "execution_count": 52,
   "id": "a96d06ed-21ab-4487-9c5d-13a10fe5f299",
   "metadata": {},
   "outputs": [],
   "source": [
    "def remove_stopwords(tokens):\n",
    "    \"\"\"\n",
    "    Remove stop words from a list of tokens.\n",
    "    \n",
    "    Parameters:\n",
    "    tokens (list): List of tokens.\n",
    "    \n",
    "    Returns:\n",
    "    list: List of tokens with stop words removed.\n",
    "    \"\"\"\n",
    "    return [t for t in tokens if t not in en_stopwords]"
   ]
  },
  {
   "cell_type": "code",
   "execution_count": 53,
   "id": "13875398-fb0b-4cd5-ab20-52f9a11d9d43",
   "metadata": {},
   "outputs": [],
   "source": [
    "def remove_stopwords_column(df, column_name):\n",
    "    \"\"\"\n",
    "    Remove stop words from the specified column of a DataFrame.\n",
    "    \n",
    "    Parameters:\n",
    "    df (pd.DataFrame): The DataFrame containing the column with tokenized words.\n",
    "    column_name (str): The name of the column containing tokenized words.\n",
    "    \n",
    "    Returns:\n",
    "    pd.DataFrame: The DataFrame with stop words removed and saved in a new column.\n",
    "    \"\"\"\n",
    "    # Remove stop words from the specified column\n",
    "    df['cleaned_tokens'] = df[column_name].apply(remove_stopwords)\n",
    "    return df"
   ]
  },
  {
   "cell_type": "code",
   "execution_count": 54,
   "id": "578303c9-cab3-4e03-9042-bf9ded51f1dc",
   "metadata": {},
   "outputs": [],
   "source": [
    "grouped_data = remove_stopwords_column(grouped_data, 'data_tokenized')"
   ]
  },
  {
   "cell_type": "code",
   "execution_count": 55,
   "id": "61da6539-4c40-4ec7-91aa-cf54bb44b7d6",
   "metadata": {},
   "outputs": [
    {
     "data": {
      "text/html": [
       "<div>\n",
       "<style scoped>\n",
       "    .dataframe tbody tr th:only-of-type {\n",
       "        vertical-align: middle;\n",
       "    }\n",
       "\n",
       "    .dataframe tbody tr th {\n",
       "        vertical-align: top;\n",
       "    }\n",
       "\n",
       "    .dataframe thead th {\n",
       "        text-align: right;\n",
       "    }\n",
       "</style>\n",
       "<table border=\"1\" class=\"dataframe\">\n",
       "  <thead>\n",
       "    <tr style=\"text-align: right;\">\n",
       "      <th></th>\n",
       "      <th>date</th>\n",
       "      <th>data</th>\n",
       "      <th>data_tokenized</th>\n",
       "      <th>cleaned_tokens</th>\n",
       "    </tr>\n",
       "  </thead>\n",
       "  <tbody>\n",
       "    <tr>\n",
       "      <th>0</th>\n",
       "      <td>2021-01-01</td>\n",
       "      <td>the tech giant is now worth nearly 23 trillion...</td>\n",
       "      <td>[the, tech, giant, is, now, worth, nearly, 23,...</td>\n",
       "      <td>[tech, giant, worth, nearly, 23, trillion, 202...</td>\n",
       "    </tr>\n",
       "    <tr>\n",
       "      <th>1</th>\n",
       "      <td>2021-01-02</td>\n",
       "      <td>specifically an iphone and an apple watch you ...</td>\n",
       "      <td>[specifically, an, iphone, and, an, apple, wat...</td>\n",
       "      <td>[specifically, iphone, apple, watch, additiona...</td>\n",
       "    </tr>\n",
       "    <tr>\n",
       "      <th>2</th>\n",
       "      <td>2021-01-03</td>\n",
       "      <td>according to apple data linked to you means th...</td>\n",
       "      <td>[according, to, apple, data, linked, to, you, ...</td>\n",
       "      <td>[according, apple, data, linked, means, data, ...</td>\n",
       "    </tr>\n",
       "  </tbody>\n",
       "</table>\n",
       "</div>"
      ],
      "text/plain": [
       "        date                                               data  \\\n",
       "0 2021-01-01  the tech giant is now worth nearly 23 trillion...   \n",
       "1 2021-01-02  specifically an iphone and an apple watch you ...   \n",
       "2 2021-01-03  according to apple data linked to you means th...   \n",
       "\n",
       "                                      data_tokenized  \\\n",
       "0  [the, tech, giant, is, now, worth, nearly, 23,...   \n",
       "1  [specifically, an, iphone, and, an, apple, wat...   \n",
       "2  [according, to, apple, data, linked, to, you, ...   \n",
       "\n",
       "                                      cleaned_tokens  \n",
       "0  [tech, giant, worth, nearly, 23, trillion, 202...  \n",
       "1  [specifically, iphone, apple, watch, additiona...  \n",
       "2  [according, apple, data, linked, means, data, ...  "
      ]
     },
     "execution_count": 55,
     "metadata": {},
     "output_type": "execute_result"
    }
   ],
   "source": [
    "grouped_data.head(3)"
   ]
  },
  {
   "cell_type": "code",
   "execution_count": 56,
   "id": "aade5b9e-aa09-4da5-9c80-65509c7e7e9f",
   "metadata": {},
   "outputs": [
    {
     "data": {
      "text/plain": [
       "['tech',\n",
       " 'giant',\n",
       " 'worth',\n",
       " 'nearly',\n",
       " '23',\n",
       " 'trillion',\n",
       " '2020',\n",
       " 'astounding',\n",
       " 'year',\n",
       " 'tech',\n",
       " 'investors',\n",
       " 'techheavy',\n",
       " 'nasdaq',\n",
       " 'composite',\n",
       " 'jumped',\n",
       " '43',\n",
       " 'timeframe',\n",
       " 'bought',\n",
       " 'new',\n",
       " 'apple']"
      ]
     },
     "execution_count": 56,
     "metadata": {},
     "output_type": "execute_result"
    }
   ],
   "source": [
    "grouped_data.cleaned_tokens[0][:20]"
   ]
  },
  {
   "cell_type": "markdown",
   "id": "10c469ce-ed14-4ea5-abd4-b2da5caaec9a",
   "metadata": {},
   "source": [
    "### 4.9 Stringify Cleaned Data"
   ]
  },
  {
   "cell_type": "code",
   "execution_count": 57,
   "id": "bb5b47eb-b361-47f1-88bd-0d3a382b2a85",
   "metadata": {},
   "outputs": [],
   "source": [
    "def clean_token_data(df, column_name):\n",
    "    df['cleaned_data'] = df[column_name].apply(lambda x: ' '.join(x))\n",
    "    return df"
   ]
  },
  {
   "cell_type": "code",
   "execution_count": 58,
   "id": "fa03233a-b6cf-4313-ab57-84d60053f7d0",
   "metadata": {},
   "outputs": [],
   "source": [
    "grouped_data = clean_token_data(grouped_data, 'cleaned_tokens')"
   ]
  },
  {
   "cell_type": "code",
   "execution_count": 59,
   "id": "2bff7c01-99fc-4637-aa69-208ff6b3dadd",
   "metadata": {},
   "outputs": [
    {
     "data": {
      "text/html": [
       "<div>\n",
       "<style scoped>\n",
       "    .dataframe tbody tr th:only-of-type {\n",
       "        vertical-align: middle;\n",
       "    }\n",
       "\n",
       "    .dataframe tbody tr th {\n",
       "        vertical-align: top;\n",
       "    }\n",
       "\n",
       "    .dataframe thead th {\n",
       "        text-align: right;\n",
       "    }\n",
       "</style>\n",
       "<table border=\"1\" class=\"dataframe\">\n",
       "  <thead>\n",
       "    <tr style=\"text-align: right;\">\n",
       "      <th></th>\n",
       "      <th>date</th>\n",
       "      <th>data</th>\n",
       "      <th>data_tokenized</th>\n",
       "      <th>cleaned_tokens</th>\n",
       "      <th>cleaned_data</th>\n",
       "    </tr>\n",
       "  </thead>\n",
       "  <tbody>\n",
       "    <tr>\n",
       "      <th>0</th>\n",
       "      <td>2021-01-01</td>\n",
       "      <td>the tech giant is now worth nearly 23 trillion...</td>\n",
       "      <td>[the, tech, giant, is, now, worth, nearly, 23,...</td>\n",
       "      <td>[tech, giant, worth, nearly, 23, trillion, 202...</td>\n",
       "      <td>tech giant worth nearly 23 trillion 2020 astou...</td>\n",
       "    </tr>\n",
       "    <tr>\n",
       "      <th>1</th>\n",
       "      <td>2021-01-02</td>\n",
       "      <td>specifically an iphone and an apple watch you ...</td>\n",
       "      <td>[specifically, an, iphone, and, an, apple, wat...</td>\n",
       "      <td>[specifically, iphone, apple, watch, additiona...</td>\n",
       "      <td>specifically iphone apple watch additionally u...</td>\n",
       "    </tr>\n",
       "    <tr>\n",
       "      <th>2</th>\n",
       "      <td>2021-01-03</td>\n",
       "      <td>according to apple data linked to you means th...</td>\n",
       "      <td>[according, to, apple, data, linked, to, you, ...</td>\n",
       "      <td>[according, apple, data, linked, means, data, ...</td>\n",
       "      <td>according apple data linked means data collect...</td>\n",
       "    </tr>\n",
       "  </tbody>\n",
       "</table>\n",
       "</div>"
      ],
      "text/plain": [
       "        date                                               data  \\\n",
       "0 2021-01-01  the tech giant is now worth nearly 23 trillion...   \n",
       "1 2021-01-02  specifically an iphone and an apple watch you ...   \n",
       "2 2021-01-03  according to apple data linked to you means th...   \n",
       "\n",
       "                                      data_tokenized  \\\n",
       "0  [the, tech, giant, is, now, worth, nearly, 23,...   \n",
       "1  [specifically, an, iphone, and, an, apple, wat...   \n",
       "2  [according, to, apple, data, linked, to, you, ...   \n",
       "\n",
       "                                      cleaned_tokens  \\\n",
       "0  [tech, giant, worth, nearly, 23, trillion, 202...   \n",
       "1  [specifically, iphone, apple, watch, additiona...   \n",
       "2  [according, apple, data, linked, means, data, ...   \n",
       "\n",
       "                                        cleaned_data  \n",
       "0  tech giant worth nearly 23 trillion 2020 astou...  \n",
       "1  specifically iphone apple watch additionally u...  \n",
       "2  according apple data linked means data collect...  "
      ]
     },
     "execution_count": 59,
     "metadata": {},
     "output_type": "execute_result"
    }
   ],
   "source": [
    "grouped_data.head(3)"
   ]
  },
  {
   "cell_type": "markdown",
   "id": "fdb3bf24-9ca3-4b65-962b-9dad2471b0d6",
   "metadata": {},
   "source": [
    "# 5. Sentiment Analysis - Using VADER"
   ]
  },
  {
   "cell_type": "code",
   "execution_count": 60,
   "id": "6ca93f03-2a77-403a-a870-f83ee7524250",
   "metadata": {},
   "outputs": [],
   "source": [
    "# Initilizing the Sentiment Analyzer\n",
    "sent = SentimentIntensityAnalyzer()"
   ]
  },
  {
   "cell_type": "code",
   "execution_count": 61,
   "id": "06746515-737c-402d-a797-25715890719b",
   "metadata": {},
   "outputs": [],
   "source": [
    "def polarity_score(data):\n",
    "    # Extracting the sentiment polarity scores of a review\n",
    "    scores = sent.polarity_scores(data)\n",
    "    \n",
    "    # Getting the compound score\n",
    "    compound = scores['compound']\n",
    "\n",
    "    return compound"
   ]
  },
  {
   "cell_type": "code",
   "execution_count": 62,
   "id": "4032db9e-a8ab-4905-9e7c-296056e5571f",
   "metadata": {},
   "outputs": [],
   "source": [
    "grouped_data['sentiment'] = grouped_data.cleaned_data.apply(polarity_score)"
   ]
  },
  {
   "cell_type": "code",
   "execution_count": 63,
   "id": "fcb0cdff-2892-4856-93c0-353ee4e69d43",
   "metadata": {},
   "outputs": [
    {
     "data": {
      "text/html": [
       "<div>\n",
       "<style scoped>\n",
       "    .dataframe tbody tr th:only-of-type {\n",
       "        vertical-align: middle;\n",
       "    }\n",
       "\n",
       "    .dataframe tbody tr th {\n",
       "        vertical-align: top;\n",
       "    }\n",
       "\n",
       "    .dataframe thead th {\n",
       "        text-align: right;\n",
       "    }\n",
       "</style>\n",
       "<table border=\"1\" class=\"dataframe\">\n",
       "  <thead>\n",
       "    <tr style=\"text-align: right;\">\n",
       "      <th></th>\n",
       "      <th>date</th>\n",
       "      <th>data</th>\n",
       "      <th>data_tokenized</th>\n",
       "      <th>cleaned_tokens</th>\n",
       "      <th>cleaned_data</th>\n",
       "      <th>sentiment</th>\n",
       "    </tr>\n",
       "  </thead>\n",
       "  <tbody>\n",
       "    <tr>\n",
       "      <th>0</th>\n",
       "      <td>2021-01-01</td>\n",
       "      <td>the tech giant is now worth nearly 23 trillion...</td>\n",
       "      <td>[the, tech, giant, is, now, worth, nearly, 23,...</td>\n",
       "      <td>[tech, giant, worth, nearly, 23, trillion, 202...</td>\n",
       "      <td>tech giant worth nearly 23 trillion 2020 astou...</td>\n",
       "      <td>0.9993</td>\n",
       "    </tr>\n",
       "    <tr>\n",
       "      <th>1</th>\n",
       "      <td>2021-01-02</td>\n",
       "      <td>specifically an iphone and an apple watch you ...</td>\n",
       "      <td>[specifically, an, iphone, and, an, apple, wat...</td>\n",
       "      <td>[specifically, iphone, apple, watch, additiona...</td>\n",
       "      <td>specifically iphone apple watch additionally u...</td>\n",
       "      <td>0.9975</td>\n",
       "    </tr>\n",
       "    <tr>\n",
       "      <th>2</th>\n",
       "      <td>2021-01-03</td>\n",
       "      <td>according to apple data linked to you means th...</td>\n",
       "      <td>[according, to, apple, data, linked, to, you, ...</td>\n",
       "      <td>[according, apple, data, linked, means, data, ...</td>\n",
       "      <td>according apple data linked means data collect...</td>\n",
       "      <td>0.9993</td>\n",
       "    </tr>\n",
       "    <tr>\n",
       "      <th>3</th>\n",
       "      <td>2021-01-04</td>\n",
       "      <td>for apple theres also a basic standalone stock...</td>\n",
       "      <td>[for, apple, theres, also, a, basic, standalon...</td>\n",
       "      <td>[apple, theres, also, basic, standalone, stock...</td>\n",
       "      <td>apple theres also basic standalone stock marke...</td>\n",
       "      <td>0.9996</td>\n",
       "    </tr>\n",
       "    <tr>\n",
       "      <th>4</th>\n",
       "      <td>2021-01-05</td>\n",
       "      <td>apple ceo tim cook delivers a keynote during t...</td>\n",
       "      <td>[apple, ceo, tim, cook, delivers, a, keynote, ...</td>\n",
       "      <td>[apple, ceo, tim, cook, delivers, keynote, eur...</td>\n",
       "      <td>apple ceo tim cook delivers keynote european u...</td>\n",
       "      <td>0.9999</td>\n",
       "    </tr>\n",
       "  </tbody>\n",
       "</table>\n",
       "</div>"
      ],
      "text/plain": [
       "        date                                               data  \\\n",
       "0 2021-01-01  the tech giant is now worth nearly 23 trillion...   \n",
       "1 2021-01-02  specifically an iphone and an apple watch you ...   \n",
       "2 2021-01-03  according to apple data linked to you means th...   \n",
       "3 2021-01-04  for apple theres also a basic standalone stock...   \n",
       "4 2021-01-05  apple ceo tim cook delivers a keynote during t...   \n",
       "\n",
       "                                      data_tokenized  \\\n",
       "0  [the, tech, giant, is, now, worth, nearly, 23,...   \n",
       "1  [specifically, an, iphone, and, an, apple, wat...   \n",
       "2  [according, to, apple, data, linked, to, you, ...   \n",
       "3  [for, apple, theres, also, a, basic, standalon...   \n",
       "4  [apple, ceo, tim, cook, delivers, a, keynote, ...   \n",
       "\n",
       "                                      cleaned_tokens  \\\n",
       "0  [tech, giant, worth, nearly, 23, trillion, 202...   \n",
       "1  [specifically, iphone, apple, watch, additiona...   \n",
       "2  [according, apple, data, linked, means, data, ...   \n",
       "3  [apple, theres, also, basic, standalone, stock...   \n",
       "4  [apple, ceo, tim, cook, delivers, keynote, eur...   \n",
       "\n",
       "                                        cleaned_data  sentiment  \n",
       "0  tech giant worth nearly 23 trillion 2020 astou...     0.9993  \n",
       "1  specifically iphone apple watch additionally u...     0.9975  \n",
       "2  according apple data linked means data collect...     0.9993  \n",
       "3  apple theres also basic standalone stock marke...     0.9996  \n",
       "4  apple ceo tim cook delivers keynote european u...     0.9999  "
      ]
     },
     "execution_count": 63,
     "metadata": {},
     "output_type": "execute_result"
    }
   ],
   "source": [
    "grouped_data.head()"
   ]
  },
  {
   "cell_type": "code",
   "execution_count": 64,
   "id": "ba14b522-db36-49bc-aa37-da5c0f94ec92",
   "metadata": {},
   "outputs": [],
   "source": [
    "# polarity score range\n",
    "minr = grouped_data['sentiment'].min()\n",
    "maxr = grouped_data['sentiment'].max()"
   ]
  },
  {
   "cell_type": "code",
   "execution_count": 65,
   "id": "bb691c7c-b4e6-4419-9c79-c53b3b0a4221",
   "metadata": {},
   "outputs": [
    {
     "name": "stdout",
     "output_type": "stream",
     "text": [
      "Date range: 0.9906 to 1.0\n"
     ]
    }
   ],
   "source": [
    "# Print date range\n",
    "print(f\"Date range: {minr} to {maxr}\")"
   ]
  },
  {
   "cell_type": "code",
   "execution_count": 66,
   "id": "dd887100-1e1c-4f29-9f6d-056478db8450",
   "metadata": {},
   "outputs": [],
   "source": [
    "df_out = grouped_data[['date','sentiment']]"
   ]
  },
  {
   "cell_type": "code",
   "execution_count": 67,
   "id": "9507788b-41c9-4e43-8619-cfc299d6415c",
   "metadata": {},
   "outputs": [
    {
     "data": {
      "text/html": [
       "<div>\n",
       "<style scoped>\n",
       "    .dataframe tbody tr th:only-of-type {\n",
       "        vertical-align: middle;\n",
       "    }\n",
       "\n",
       "    .dataframe tbody tr th {\n",
       "        vertical-align: top;\n",
       "    }\n",
       "\n",
       "    .dataframe thead th {\n",
       "        text-align: right;\n",
       "    }\n",
       "</style>\n",
       "<table border=\"1\" class=\"dataframe\">\n",
       "  <thead>\n",
       "    <tr style=\"text-align: right;\">\n",
       "      <th></th>\n",
       "      <th>date</th>\n",
       "      <th>sentiment</th>\n",
       "    </tr>\n",
       "  </thead>\n",
       "  <tbody>\n",
       "    <tr>\n",
       "      <th>0</th>\n",
       "      <td>2021-01-01</td>\n",
       "      <td>0.9993</td>\n",
       "    </tr>\n",
       "    <tr>\n",
       "      <th>1</th>\n",
       "      <td>2021-01-02</td>\n",
       "      <td>0.9975</td>\n",
       "    </tr>\n",
       "    <tr>\n",
       "      <th>2</th>\n",
       "      <td>2021-01-03</td>\n",
       "      <td>0.9993</td>\n",
       "    </tr>\n",
       "    <tr>\n",
       "      <th>3</th>\n",
       "      <td>2021-01-04</td>\n",
       "      <td>0.9996</td>\n",
       "    </tr>\n",
       "    <tr>\n",
       "      <th>4</th>\n",
       "      <td>2021-01-05</td>\n",
       "      <td>0.9999</td>\n",
       "    </tr>\n",
       "  </tbody>\n",
       "</table>\n",
       "</div>"
      ],
      "text/plain": [
       "        date  sentiment\n",
       "0 2021-01-01     0.9993\n",
       "1 2021-01-02     0.9975\n",
       "2 2021-01-03     0.9993\n",
       "3 2021-01-04     0.9996\n",
       "4 2021-01-05     0.9999"
      ]
     },
     "execution_count": 67,
     "metadata": {},
     "output_type": "execute_result"
    }
   ],
   "source": [
    "df_out.head()"
   ]
  },
  {
   "cell_type": "code",
   "execution_count": 68,
   "id": "7ef87142-029e-4a3e-924f-c463857d0adc",
   "metadata": {},
   "outputs": [],
   "source": [
    "def sentiment_to_label(value):\n",
    "    return 1 if value > 0.05 else 0"
   ]
  },
  {
   "cell_type": "code",
   "execution_count": 69,
   "id": "5a13d465-8dfa-4df1-b247-6104537f2273",
   "metadata": {},
   "outputs": [
    {
     "name": "stderr",
     "output_type": "stream",
     "text": [
      "C:\\Users\\Acer\\AppData\\Local\\Temp\\ipykernel_10644\\3607238158.py:1: SettingWithCopyWarning: \n",
      "A value is trying to be set on a copy of a slice from a DataFrame.\n",
      "Try using .loc[row_indexer,col_indexer] = value instead\n",
      "\n",
      "See the caveats in the documentation: https://pandas.pydata.org/pandas-docs/stable/user_guide/indexing.html#returning-a-view-versus-a-copy\n",
      "  df_out['trend'] = df_out['sentiment'].apply(sentiment_to_label)\n"
     ]
    }
   ],
   "source": [
    "df_out['trend'] = df_out['sentiment'].apply(sentiment_to_label)"
   ]
  },
  {
   "cell_type": "code",
   "execution_count": 70,
   "id": "cfcad4f7-6ce2-42fc-bf3d-7abbc1f62fbe",
   "metadata": {},
   "outputs": [
    {
     "data": {
      "text/html": [
       "<div>\n",
       "<style scoped>\n",
       "    .dataframe tbody tr th:only-of-type {\n",
       "        vertical-align: middle;\n",
       "    }\n",
       "\n",
       "    .dataframe tbody tr th {\n",
       "        vertical-align: top;\n",
       "    }\n",
       "\n",
       "    .dataframe thead th {\n",
       "        text-align: right;\n",
       "    }\n",
       "</style>\n",
       "<table border=\"1\" class=\"dataframe\">\n",
       "  <thead>\n",
       "    <tr style=\"text-align: right;\">\n",
       "      <th></th>\n",
       "      <th>date</th>\n",
       "      <th>sentiment</th>\n",
       "      <th>trend</th>\n",
       "    </tr>\n",
       "  </thead>\n",
       "  <tbody>\n",
       "    <tr>\n",
       "      <th>0</th>\n",
       "      <td>2021-01-01</td>\n",
       "      <td>0.9993</td>\n",
       "      <td>1</td>\n",
       "    </tr>\n",
       "    <tr>\n",
       "      <th>1</th>\n",
       "      <td>2021-01-02</td>\n",
       "      <td>0.9975</td>\n",
       "      <td>1</td>\n",
       "    </tr>\n",
       "    <tr>\n",
       "      <th>2</th>\n",
       "      <td>2021-01-03</td>\n",
       "      <td>0.9993</td>\n",
       "      <td>1</td>\n",
       "    </tr>\n",
       "    <tr>\n",
       "      <th>3</th>\n",
       "      <td>2021-01-04</td>\n",
       "      <td>0.9996</td>\n",
       "      <td>1</td>\n",
       "    </tr>\n",
       "    <tr>\n",
       "      <th>4</th>\n",
       "      <td>2021-01-05</td>\n",
       "      <td>0.9999</td>\n",
       "      <td>1</td>\n",
       "    </tr>\n",
       "  </tbody>\n",
       "</table>\n",
       "</div>"
      ],
      "text/plain": [
       "        date  sentiment  trend\n",
       "0 2021-01-01     0.9993      1\n",
       "1 2021-01-02     0.9975      1\n",
       "2 2021-01-03     0.9993      1\n",
       "3 2021-01-04     0.9996      1\n",
       "4 2021-01-05     0.9999      1"
      ]
     },
     "execution_count": 70,
     "metadata": {},
     "output_type": "execute_result"
    }
   ],
   "source": [
    "df_out.head()"
   ]
  },
  {
   "cell_type": "code",
   "execution_count": 71,
   "id": "ea32aaee-4c8b-4088-ac65-2dba03c97214",
   "metadata": {},
   "outputs": [],
   "source": [
    "df_out.to_csv('./outputs/out_vader.csv', index=False)"
   ]
  },
  {
   "cell_type": "markdown",
   "id": "90e4af8c-2fc6-4aa6-949c-b10bf618e894",
   "metadata": {},
   "source": [
    "## APPROACH 2 - Using FinBERT and VADER on Seperate Datasets"
   ]
  },
  {
   "cell_type": "code",
   "execution_count": 72,
   "id": "6c125247-05ee-43b1-93c1-3e5e3db1ea91",
   "metadata": {},
   "outputs": [],
   "source": [
    "df_news = pd.read_csv('./outputs/data_news.csv')"
   ]
  },
  {
   "cell_type": "code",
   "execution_count": 73,
   "id": "2324b54b-8a36-408e-83c9-f6edd8e8ab63",
   "metadata": {
    "scrolled": true
   },
   "outputs": [
    {
     "data": {
      "text/html": [
       "<div>\n",
       "<style scoped>\n",
       "    .dataframe tbody tr th:only-of-type {\n",
       "        vertical-align: middle;\n",
       "    }\n",
       "\n",
       "    .dataframe tbody tr th {\n",
       "        vertical-align: top;\n",
       "    }\n",
       "\n",
       "    .dataframe thead th {\n",
       "        text-align: right;\n",
       "    }\n",
       "</style>\n",
       "<table border=\"1\" class=\"dataframe\">\n",
       "  <thead>\n",
       "    <tr style=\"text-align: right;\">\n",
       "      <th></th>\n",
       "      <th>date</th>\n",
       "      <th>data</th>\n",
       "    </tr>\n",
       "  </thead>\n",
       "  <tbody>\n",
       "    <tr>\n",
       "      <th>0</th>\n",
       "      <td>2021-01-01</td>\n",
       "      <td>the tech giant is now worth nearly 23 trillion...</td>\n",
       "    </tr>\n",
       "    <tr>\n",
       "      <th>1</th>\n",
       "      <td>2021-01-01</td>\n",
       "      <td>i bought the new apple watch se this fall  the...</td>\n",
       "    </tr>\n",
       "    <tr>\n",
       "      <th>2</th>\n",
       "      <td>2021-01-02</td>\n",
       "      <td>specifically an iphone and an apple watch you ...</td>\n",
       "    </tr>\n",
       "  </tbody>\n",
       "</table>\n",
       "</div>"
      ],
      "text/plain": [
       "         date                                               data\n",
       "0  2021-01-01  the tech giant is now worth nearly 23 trillion...\n",
       "1  2021-01-01  i bought the new apple watch se this fall  the...\n",
       "2  2021-01-02  specifically an iphone and an apple watch you ..."
      ]
     },
     "execution_count": 73,
     "metadata": {},
     "output_type": "execute_result"
    }
   ],
   "source": [
    "df_news.head(3)"
   ]
  },
  {
   "cell_type": "code",
   "execution_count": 74,
   "id": "7426921e-1168-4a65-9891-4e53adc79603",
   "metadata": {},
   "outputs": [],
   "source": [
    "df_tweets = pd.read_csv('./outputs/data_tweets.csv')"
   ]
  },
  {
   "cell_type": "code",
   "execution_count": 75,
   "id": "3fddab5b-2e6d-4501-b3e8-94895aa854ed",
   "metadata": {},
   "outputs": [
    {
     "data": {
      "text/html": [
       "<div>\n",
       "<style scoped>\n",
       "    .dataframe tbody tr th:only-of-type {\n",
       "        vertical-align: middle;\n",
       "    }\n",
       "\n",
       "    .dataframe tbody tr th {\n",
       "        vertical-align: top;\n",
       "    }\n",
       "\n",
       "    .dataframe thead th {\n",
       "        text-align: right;\n",
       "    }\n",
       "</style>\n",
       "<table border=\"1\" class=\"dataframe\">\n",
       "  <thead>\n",
       "    <tr style=\"text-align: right;\">\n",
       "      <th></th>\n",
       "      <th>date</th>\n",
       "      <th>data</th>\n",
       "    </tr>\n",
       "  </thead>\n",
       "  <tbody>\n",
       "    <tr>\n",
       "      <th>0</th>\n",
       "      <td>2021-01-01</td>\n",
       "      <td>peregreine price target for apple for janfeb t...</td>\n",
       "    </tr>\n",
       "    <tr>\n",
       "      <th>1</th>\n",
       "      <td>2021-01-01</td>\n",
       "      <td>aapl looks good if it can clear 133 for 135 137</td>\n",
       "    </tr>\n",
       "    <tr>\n",
       "      <th>2</th>\n",
       "      <td>2021-01-01</td>\n",
       "      <td>timcook i ordered an apple macbook air two wee...</td>\n",
       "    </tr>\n",
       "  </tbody>\n",
       "</table>\n",
       "</div>"
      ],
      "text/plain": [
       "         date                                               data\n",
       "0  2021-01-01  peregreine price target for apple for janfeb t...\n",
       "1  2021-01-01    aapl looks good if it can clear 133 for 135 137\n",
       "2  2021-01-01  timcook i ordered an apple macbook air two wee..."
      ]
     },
     "execution_count": 75,
     "metadata": {},
     "output_type": "execute_result"
    }
   ],
   "source": [
    "df_tweets.head(3)"
   ]
  },
  {
   "cell_type": "markdown",
   "id": "30925657-6060-4303-b71b-9c298bacc6eb",
   "metadata": {},
   "source": [
    "\n",
    "### 4.7 Tokenizing"
   ]
  },
  {
   "cell_type": "code",
   "execution_count": 83,
   "id": "8b0a4903-7e83-4e9f-af0f-c0cf183a08db",
   "metadata": {},
   "outputs": [],
   "source": [
    "df_news = tokenize_column(df_news, 'data')"
   ]
  },
  {
   "cell_type": "code",
   "execution_count": 84,
   "id": "ef37d40d-1762-4a7c-ad7a-e3b65189184b",
   "metadata": {},
   "outputs": [],
   "source": [
    "df_tweets = tokenize_column(df_tweets, 'data')"
   ]
  },
  {
   "cell_type": "markdown",
   "id": "f838e700-601b-47e1-b4ad-49a6ad206e59",
   "metadata": {},
   "source": [
    "### 4.8 Removing Stopwords"
   ]
  },
  {
   "cell_type": "code",
   "execution_count": 85,
   "id": "c93bfb6a-5211-476d-91d5-6a0daf814843",
   "metadata": {},
   "outputs": [],
   "source": [
    "df_news = remove_stopwords_column(df_news, 'data_tokenized')"
   ]
  },
  {
   "cell_type": "code",
   "execution_count": 86,
   "id": "9116b7e1-7f6e-45aa-b8d3-5ea2c8ef1656",
   "metadata": {},
   "outputs": [],
   "source": [
    "df_tweets = remove_stopwords_column(df_tweets, 'data_tokenized')"
   ]
  },
  {
   "cell_type": "markdown",
   "id": "62ef982d-ee02-4ee5-be74-0f3e36e86a39",
   "metadata": {},
   "source": [
    "### 4.9 Stringify Cleaned Tokens"
   ]
  },
  {
   "cell_type": "code",
   "execution_count": 87,
   "id": "e0967acb-d2d0-42bb-9eb8-85a2ca05eccc",
   "metadata": {},
   "outputs": [],
   "source": [
    "df_news = clean_token_data(df_news, 'cleaned_tokens')"
   ]
  },
  {
   "cell_type": "code",
   "execution_count": 88,
   "id": "a6b1808c-e861-4d0f-abd3-de0ca279e9c0",
   "metadata": {},
   "outputs": [],
   "source": [
    "df_tweets = clean_token_data(df_tweets, 'cleaned_tokens')"
   ]
  },
  {
   "cell_type": "code",
   "execution_count": 90,
   "id": "21675711-3108-416a-a90e-cbe775ad4c43",
   "metadata": {},
   "outputs": [
    {
     "data": {
      "text/html": [
       "<div>\n",
       "<style scoped>\n",
       "    .dataframe tbody tr th:only-of-type {\n",
       "        vertical-align: middle;\n",
       "    }\n",
       "\n",
       "    .dataframe tbody tr th {\n",
       "        vertical-align: top;\n",
       "    }\n",
       "\n",
       "    .dataframe thead th {\n",
       "        text-align: right;\n",
       "    }\n",
       "</style>\n",
       "<table border=\"1\" class=\"dataframe\">\n",
       "  <thead>\n",
       "    <tr style=\"text-align: right;\">\n",
       "      <th></th>\n",
       "      <th>date</th>\n",
       "      <th>data</th>\n",
       "      <th>data_tokenized</th>\n",
       "      <th>cleaned_tokens</th>\n",
       "      <th>cleaned_data</th>\n",
       "    </tr>\n",
       "  </thead>\n",
       "  <tbody>\n",
       "    <tr>\n",
       "      <th>0</th>\n",
       "      <td>2021-01-01</td>\n",
       "      <td>the tech giant is now worth nearly 23 trillion...</td>\n",
       "      <td>[the, tech, giant, is, now, worth, nearly, 23,...</td>\n",
       "      <td>[tech, giant, worth, nearly, 23, trillion, 202...</td>\n",
       "      <td>tech giant worth nearly 23 trillion 2020 astou...</td>\n",
       "    </tr>\n",
       "    <tr>\n",
       "      <th>1</th>\n",
       "      <td>2021-01-01</td>\n",
       "      <td>i bought the new apple watch se this fall  the...</td>\n",
       "      <td>[i, bought, the, new, apple, watch, se, this, ...</td>\n",
       "      <td>[bought, new, apple, watch, se, fall, smart, w...</td>\n",
       "      <td>bought new apple watch se fall smart watch use...</td>\n",
       "    </tr>\n",
       "    <tr>\n",
       "      <th>2</th>\n",
       "      <td>2021-01-02</td>\n",
       "      <td>specifically an iphone and an apple watch you ...</td>\n",
       "      <td>[specifically, an, iphone, and, an, apple, wat...</td>\n",
       "      <td>[specifically, iphone, apple, watch, additiona...</td>\n",
       "      <td>specifically iphone apple watch additionally u...</td>\n",
       "    </tr>\n",
       "  </tbody>\n",
       "</table>\n",
       "</div>"
      ],
      "text/plain": [
       "         date                                               data  \\\n",
       "0  2021-01-01  the tech giant is now worth nearly 23 trillion...   \n",
       "1  2021-01-01  i bought the new apple watch se this fall  the...   \n",
       "2  2021-01-02  specifically an iphone and an apple watch you ...   \n",
       "\n",
       "                                      data_tokenized  \\\n",
       "0  [the, tech, giant, is, now, worth, nearly, 23,...   \n",
       "1  [i, bought, the, new, apple, watch, se, this, ...   \n",
       "2  [specifically, an, iphone, and, an, apple, wat...   \n",
       "\n",
       "                                      cleaned_tokens  \\\n",
       "0  [tech, giant, worth, nearly, 23, trillion, 202...   \n",
       "1  [bought, new, apple, watch, se, fall, smart, w...   \n",
       "2  [specifically, iphone, apple, watch, additiona...   \n",
       "\n",
       "                                        cleaned_data  \n",
       "0  tech giant worth nearly 23 trillion 2020 astou...  \n",
       "1  bought new apple watch se fall smart watch use...  \n",
       "2  specifically iphone apple watch additionally u...  "
      ]
     },
     "execution_count": 90,
     "metadata": {},
     "output_type": "execute_result"
    }
   ],
   "source": [
    "df_news.head(3)"
   ]
  },
  {
   "cell_type": "code",
   "execution_count": 91,
   "id": "a2086df1-6456-439d-b5b4-e149b9f8574c",
   "metadata": {},
   "outputs": [
    {
     "data": {
      "text/html": [
       "<div>\n",
       "<style scoped>\n",
       "    .dataframe tbody tr th:only-of-type {\n",
       "        vertical-align: middle;\n",
       "    }\n",
       "\n",
       "    .dataframe tbody tr th {\n",
       "        vertical-align: top;\n",
       "    }\n",
       "\n",
       "    .dataframe thead th {\n",
       "        text-align: right;\n",
       "    }\n",
       "</style>\n",
       "<table border=\"1\" class=\"dataframe\">\n",
       "  <thead>\n",
       "    <tr style=\"text-align: right;\">\n",
       "      <th></th>\n",
       "      <th>date</th>\n",
       "      <th>data</th>\n",
       "      <th>data_tokenized</th>\n",
       "      <th>cleaned_tokens</th>\n",
       "      <th>cleaned_data</th>\n",
       "    </tr>\n",
       "  </thead>\n",
       "  <tbody>\n",
       "    <tr>\n",
       "      <th>0</th>\n",
       "      <td>2021-01-01</td>\n",
       "      <td>peregreine price target for apple for janfeb t...</td>\n",
       "      <td>[peregreine, price, target, for, apple, for, j...</td>\n",
       "      <td>[peregreine, price, target, apple, janfeb, try...</td>\n",
       "      <td>peregreine price target apple janfeb trying de...</td>\n",
       "    </tr>\n",
       "    <tr>\n",
       "      <th>1</th>\n",
       "      <td>2021-01-01</td>\n",
       "      <td>aapl looks good if it can clear 133 for 135 137</td>\n",
       "      <td>[aapl, looks, good, if, it, can, clear, 133, f...</td>\n",
       "      <td>[aapl, looks, good, clear, 133, 135, 137]</td>\n",
       "      <td>aapl looks good clear 133 135 137</td>\n",
       "    </tr>\n",
       "    <tr>\n",
       "      <th>2</th>\n",
       "      <td>2021-01-01</td>\n",
       "      <td>timcook i ordered an apple macbook air two wee...</td>\n",
       "      <td>[timcook, i, ordered, an, apple, macbook, air,...</td>\n",
       "      <td>[timcook, ordered, apple, macbook, air, two, w...</td>\n",
       "      <td>timcook ordered apple macbook air two weeks ag...</td>\n",
       "    </tr>\n",
       "  </tbody>\n",
       "</table>\n",
       "</div>"
      ],
      "text/plain": [
       "         date                                               data  \\\n",
       "0  2021-01-01  peregreine price target for apple for janfeb t...   \n",
       "1  2021-01-01    aapl looks good if it can clear 133 for 135 137   \n",
       "2  2021-01-01  timcook i ordered an apple macbook air two wee...   \n",
       "\n",
       "                                      data_tokenized  \\\n",
       "0  [peregreine, price, target, for, apple, for, j...   \n",
       "1  [aapl, looks, good, if, it, can, clear, 133, f...   \n",
       "2  [timcook, i, ordered, an, apple, macbook, air,...   \n",
       "\n",
       "                                      cleaned_tokens  \\\n",
       "0  [peregreine, price, target, apple, janfeb, try...   \n",
       "1          [aapl, looks, good, clear, 133, 135, 137]   \n",
       "2  [timcook, ordered, apple, macbook, air, two, w...   \n",
       "\n",
       "                                        cleaned_data  \n",
       "0  peregreine price target apple janfeb trying de...  \n",
       "1                  aapl looks good clear 133 135 137  \n",
       "2  timcook ordered apple macbook air two weeks ag...  "
      ]
     },
     "execution_count": 91,
     "metadata": {},
     "output_type": "execute_result"
    }
   ],
   "source": [
    "df_tweets.head(3)"
   ]
  },
  {
   "cell_type": "markdown",
   "id": "b8fcc328-4406-4de4-8b99-34695801cf12",
   "metadata": {},
   "source": [
    "# 5. Sentiment Analysis - FinBERT and VADER"
   ]
  },
  {
   "cell_type": "code",
   "execution_count": 76,
   "id": "f81297e1-51ea-4142-8574-1840ad12bbeb",
   "metadata": {},
   "outputs": [],
   "source": [
    "import pandas as pd\n",
    "from transformers import AutoTokenizer, AutoModelForSequenceClassification\n",
    "import torch"
   ]
  },
  {
   "cell_type": "code",
   "execution_count": 81,
   "id": "06fdffbe-2d3e-4e8f-a434-c7fbea1475b2",
   "metadata": {},
   "outputs": [],
   "source": [
    "# Load the tokenizer and model\n",
    "tokenizer = AutoTokenizer.from_pretrained(\"yiyanghkust/finbert-tone\")\n",
    "model = AutoModelForSequenceClassification.from_pretrained(\"yiyanghkust/finbert-tone\")"
   ]
  },
  {
   "cell_type": "code",
   "execution_count": 82,
   "id": "4bc1a2c8-bb7e-4d06-8045-47fc311fe278",
   "metadata": {},
   "outputs": [],
   "source": [
    "# Tokenize the text and convert it to tensor format\n",
    "def predict_sentiment(text):\n",
    "    inputs = tokenizer(text, return_tensors=\"pt\", padding=True, truncation=True)\n",
    "    outputs = model(**inputs)\n",
    "    scores = outputs.logits.softmax(dim=1)\n",
    "    sentiment_score = scores[0].detach().numpy()\n",
    "    # Return sentiment score for positive class (index 1)\n",
    "    return sentiment_score[2] - sentiment_score[0]"
   ]
  },
  {
   "cell_type": "markdown",
   "id": "bec633de-242c-4f57-92d0-de061c050d22",
   "metadata": {},
   "source": [
    "### 5.1 News - Using FinBERT"
   ]
  },
  {
   "cell_type": "code",
   "execution_count": 93,
   "id": "c419720f-c0c4-4701-b240-9686bf4553f4",
   "metadata": {},
   "outputs": [],
   "source": [
    "# Apply the model to each text\n",
    "df_news['sentiment'] = df_news['cleaned_data'].apply(predict_sentiment)"
   ]
  },
  {
   "cell_type": "code",
   "execution_count": 94,
   "id": "c0980c8f-b565-4e18-acee-0f0ca9adf61e",
   "metadata": {},
   "outputs": [],
   "source": [
    "out_news = df_news[['date','sentiment']]"
   ]
  },
  {
   "cell_type": "code",
   "execution_count": 95,
   "id": "d67fa58b-2d67-4616-8d53-760f8d509e25",
   "metadata": {},
   "outputs": [
    {
     "name": "stderr",
     "output_type": "stream",
     "text": [
      "C:\\Users\\Acer\\AppData\\Local\\Temp\\ipykernel_10644\\3752081194.py:2: SettingWithCopyWarning: \n",
      "A value is trying to be set on a copy of a slice from a DataFrame.\n",
      "Try using .loc[row_indexer,col_indexer] = value instead\n",
      "\n",
      "See the caveats in the documentation: https://pandas.pydata.org/pandas-docs/stable/user_guide/indexing.html#returning-a-view-versus-a-copy\n",
      "  out_news['trend'] = out_news['sentiment'].apply(sentiment_to_label)\n"
     ]
    }
   ],
   "source": [
    "# Apply the function to create a new column\n",
    "out_news['trend'] = out_news['sentiment'].apply(sentiment_to_label)"
   ]
  },
  {
   "cell_type": "code",
   "execution_count": 96,
   "id": "d34419d2-3837-4409-8709-43b60b40f767",
   "metadata": {},
   "outputs": [
    {
     "data": {
      "text/html": [
       "<div>\n",
       "<style scoped>\n",
       "    .dataframe tbody tr th:only-of-type {\n",
       "        vertical-align: middle;\n",
       "    }\n",
       "\n",
       "    .dataframe tbody tr th {\n",
       "        vertical-align: top;\n",
       "    }\n",
       "\n",
       "    .dataframe thead th {\n",
       "        text-align: right;\n",
       "    }\n",
       "</style>\n",
       "<table border=\"1\" class=\"dataframe\">\n",
       "  <thead>\n",
       "    <tr style=\"text-align: right;\">\n",
       "      <th></th>\n",
       "      <th>date</th>\n",
       "      <th>sentiment</th>\n",
       "      <th>trend</th>\n",
       "    </tr>\n",
       "  </thead>\n",
       "  <tbody>\n",
       "    <tr>\n",
       "      <th>0</th>\n",
       "      <td>2021-01-01</td>\n",
       "      <td>-0.997053</td>\n",
       "      <td>0</td>\n",
       "    </tr>\n",
       "    <tr>\n",
       "      <th>1</th>\n",
       "      <td>2021-01-01</td>\n",
       "      <td>-0.998911</td>\n",
       "      <td>0</td>\n",
       "    </tr>\n",
       "    <tr>\n",
       "      <th>2</th>\n",
       "      <td>2021-01-02</td>\n",
       "      <td>-0.781366</td>\n",
       "      <td>0</td>\n",
       "    </tr>\n",
       "    <tr>\n",
       "      <th>3</th>\n",
       "      <td>2021-01-02</td>\n",
       "      <td>0.999997</td>\n",
       "      <td>1</td>\n",
       "    </tr>\n",
       "    <tr>\n",
       "      <th>4</th>\n",
       "      <td>2021-01-02</td>\n",
       "      <td>-0.001322</td>\n",
       "      <td>0</td>\n",
       "    </tr>\n",
       "  </tbody>\n",
       "</table>\n",
       "</div>"
      ],
      "text/plain": [
       "         date  sentiment  trend\n",
       "0  2021-01-01  -0.997053      0\n",
       "1  2021-01-01  -0.998911      0\n",
       "2  2021-01-02  -0.781366      0\n",
       "3  2021-01-02   0.999997      1\n",
       "4  2021-01-02  -0.001322      0"
      ]
     },
     "execution_count": 96,
     "metadata": {},
     "output_type": "execute_result"
    }
   ],
   "source": [
    "out_news.head()"
   ]
  },
  {
   "cell_type": "code",
   "execution_count": 98,
   "id": "fa8b96a5-a72d-48b3-962e-b8971ee24cc1",
   "metadata": {},
   "outputs": [
    {
     "data": {
      "text/plain": [
       "trend\n",
       "0    1817\n",
       "1     322\n",
       "Name: count, dtype: int64"
      ]
     },
     "execution_count": 98,
     "metadata": {},
     "output_type": "execute_result"
    }
   ],
   "source": [
    "out_news['trend'].value_counts()"
   ]
  },
  {
   "cell_type": "code",
   "execution_count": 105,
   "id": "861929d5-7f8d-4be8-9a77-23e88812ed39",
   "metadata": {},
   "outputs": [],
   "source": [
    "out_news.to_csv('./outputs/out_news_finbert.csv', index=False)"
   ]
  },
  {
   "cell_type": "markdown",
   "id": "236eccab-b615-4c2e-8b48-8d612c924dfb",
   "metadata": {},
   "source": [
    "### 5.2 Tweets - Using VADER"
   ]
  },
  {
   "cell_type": "code",
   "execution_count": 99,
   "id": "88af288a-5b65-4498-8da9-a53d66613a7c",
   "metadata": {},
   "outputs": [],
   "source": [
    "df_tweets['sentiment'] = df_tweets.cleaned_data.apply(polarity_score)"
   ]
  },
  {
   "cell_type": "code",
   "execution_count": 100,
   "id": "185edd3b-e583-4d15-999e-127a03b39fc6",
   "metadata": {},
   "outputs": [],
   "source": [
    "out_tweets = df_tweets[['date','sentiment']]"
   ]
  },
  {
   "cell_type": "code",
   "execution_count": 101,
   "id": "24e60875-a506-4eb0-9d52-46d2ad0c6e3f",
   "metadata": {},
   "outputs": [
    {
     "name": "stderr",
     "output_type": "stream",
     "text": [
      "C:\\Users\\Acer\\AppData\\Local\\Temp\\ipykernel_10644\\4252376150.py:2: SettingWithCopyWarning: \n",
      "A value is trying to be set on a copy of a slice from a DataFrame.\n",
      "Try using .loc[row_indexer,col_indexer] = value instead\n",
      "\n",
      "See the caveats in the documentation: https://pandas.pydata.org/pandas-docs/stable/user_guide/indexing.html#returning-a-view-versus-a-copy\n",
      "  out_tweets['trend'] = out_tweets['sentiment'].apply(sentiment_to_label)\n"
     ]
    }
   ],
   "source": [
    "# Apply the function to create a new column\n",
    "out_tweets['trend'] = out_tweets['sentiment'].apply(sentiment_to_label)"
   ]
  },
  {
   "cell_type": "code",
   "execution_count": 102,
   "id": "ad3642c8-bcea-40a1-bdb2-7e101017d322",
   "metadata": {},
   "outputs": [
    {
     "data": {
      "text/html": [
       "<div>\n",
       "<style scoped>\n",
       "    .dataframe tbody tr th:only-of-type {\n",
       "        vertical-align: middle;\n",
       "    }\n",
       "\n",
       "    .dataframe tbody tr th {\n",
       "        vertical-align: top;\n",
       "    }\n",
       "\n",
       "    .dataframe thead th {\n",
       "        text-align: right;\n",
       "    }\n",
       "</style>\n",
       "<table border=\"1\" class=\"dataframe\">\n",
       "  <thead>\n",
       "    <tr style=\"text-align: right;\">\n",
       "      <th></th>\n",
       "      <th>date</th>\n",
       "      <th>sentiment</th>\n",
       "      <th>trend</th>\n",
       "    </tr>\n",
       "  </thead>\n",
       "  <tbody>\n",
       "    <tr>\n",
       "      <th>0</th>\n",
       "      <td>2021-01-01</td>\n",
       "      <td>0.3400</td>\n",
       "      <td>1</td>\n",
       "    </tr>\n",
       "    <tr>\n",
       "      <th>1</th>\n",
       "      <td>2021-01-01</td>\n",
       "      <td>0.6705</td>\n",
       "      <td>1</td>\n",
       "    </tr>\n",
       "    <tr>\n",
       "      <th>2</th>\n",
       "      <td>2021-01-01</td>\n",
       "      <td>0.5859</td>\n",
       "      <td>1</td>\n",
       "    </tr>\n",
       "    <tr>\n",
       "      <th>3</th>\n",
       "      <td>2021-01-01</td>\n",
       "      <td>0.2658</td>\n",
       "      <td>1</td>\n",
       "    </tr>\n",
       "    <tr>\n",
       "      <th>4</th>\n",
       "      <td>2021-01-01</td>\n",
       "      <td>0.0000</td>\n",
       "      <td>0</td>\n",
       "    </tr>\n",
       "  </tbody>\n",
       "</table>\n",
       "</div>"
      ],
      "text/plain": [
       "         date  sentiment  trend\n",
       "0  2021-01-01     0.3400      1\n",
       "1  2021-01-01     0.6705      1\n",
       "2  2021-01-01     0.5859      1\n",
       "3  2021-01-01     0.2658      1\n",
       "4  2021-01-01     0.0000      0"
      ]
     },
     "execution_count": 102,
     "metadata": {},
     "output_type": "execute_result"
    }
   ],
   "source": [
    "out_tweets.head()"
   ]
  },
  {
   "cell_type": "code",
   "execution_count": 104,
   "id": "df8439a5-b78f-4fff-8de3-beaa2c23940f",
   "metadata": {},
   "outputs": [
    {
     "data": {
      "text/plain": [
       "trend\n",
       "0    67923\n",
       "1    46730\n",
       "Name: count, dtype: int64"
      ]
     },
     "execution_count": 104,
     "metadata": {},
     "output_type": "execute_result"
    }
   ],
   "source": [
    "out_tweets['trend'].value_counts()"
   ]
  },
  {
   "cell_type": "code",
   "execution_count": 106,
   "id": "0ac5dd4b-eb66-4a40-92c6-8e8d499d1268",
   "metadata": {},
   "outputs": [],
   "source": [
    "out_tweets.to_csv('./outputs/out_tweets_vader.csv', index=False)"
   ]
  },
  {
   "cell_type": "markdown",
   "id": "47034a2f-bda2-438f-9f40-cee7d14bb88b",
   "metadata": {},
   "source": [
    "# 6. Aggregate Outputs"
   ]
  },
  {
   "cell_type": "code",
   "execution_count": 107,
   "id": "f1e175cc-62c8-4fc8-8db4-c3808bcf9ba0",
   "metadata": {},
   "outputs": [],
   "source": [
    "merged_out = pd.concat([out_news, out_tweets], ignore_index=True)"
   ]
  },
  {
   "cell_type": "code",
   "execution_count": 108,
   "id": "fa7fd7c0-c956-4fe0-a18f-71ce6f1fd236",
   "metadata": {},
   "outputs": [
    {
     "data": {
      "text/html": [
       "<div>\n",
       "<style scoped>\n",
       "    .dataframe tbody tr th:only-of-type {\n",
       "        vertical-align: middle;\n",
       "    }\n",
       "\n",
       "    .dataframe tbody tr th {\n",
       "        vertical-align: top;\n",
       "    }\n",
       "\n",
       "    .dataframe thead th {\n",
       "        text-align: right;\n",
       "    }\n",
       "</style>\n",
       "<table border=\"1\" class=\"dataframe\">\n",
       "  <thead>\n",
       "    <tr style=\"text-align: right;\">\n",
       "      <th></th>\n",
       "      <th>date</th>\n",
       "      <th>sentiment</th>\n",
       "      <th>trend</th>\n",
       "    </tr>\n",
       "  </thead>\n",
       "  <tbody>\n",
       "    <tr>\n",
       "      <th>0</th>\n",
       "      <td>2021-01-01</td>\n",
       "      <td>-0.997053</td>\n",
       "      <td>0</td>\n",
       "    </tr>\n",
       "    <tr>\n",
       "      <th>1</th>\n",
       "      <td>2021-01-01</td>\n",
       "      <td>-0.998911</td>\n",
       "      <td>0</td>\n",
       "    </tr>\n",
       "    <tr>\n",
       "      <th>2</th>\n",
       "      <td>2021-01-02</td>\n",
       "      <td>-0.781366</td>\n",
       "      <td>0</td>\n",
       "    </tr>\n",
       "    <tr>\n",
       "      <th>3</th>\n",
       "      <td>2021-01-02</td>\n",
       "      <td>0.999997</td>\n",
       "      <td>1</td>\n",
       "    </tr>\n",
       "    <tr>\n",
       "      <th>4</th>\n",
       "      <td>2021-01-02</td>\n",
       "      <td>-0.001322</td>\n",
       "      <td>0</td>\n",
       "    </tr>\n",
       "  </tbody>\n",
       "</table>\n",
       "</div>"
      ],
      "text/plain": [
       "         date  sentiment  trend\n",
       "0  2021-01-01  -0.997053      0\n",
       "1  2021-01-01  -0.998911      0\n",
       "2  2021-01-02  -0.781366      0\n",
       "3  2021-01-02   0.999997      1\n",
       "4  2021-01-02  -0.001322      0"
      ]
     },
     "execution_count": 108,
     "metadata": {},
     "output_type": "execute_result"
    }
   ],
   "source": [
    "merged_out.head()"
   ]
  },
  {
   "cell_type": "code",
   "execution_count": 110,
   "id": "7e554f27-7f92-4ed2-99b7-c2ed6b622f88",
   "metadata": {},
   "outputs": [],
   "source": [
    "# Group by 'Date' and count the occurrences of each value in 'trend'\n",
    "grouped_out = merged_out.groupby('date')['trend'].value_counts().unstack(fill_value=0)"
   ]
  },
  {
   "cell_type": "code",
   "execution_count": 111,
   "id": "bfb37fbd-61fd-421e-b62d-96d4f664259c",
   "metadata": {},
   "outputs": [],
   "source": [
    "# Create 'overall_trend' column based on the count comparison\n",
    "grouped_out['overall_trend'] = (grouped_out[1] > grouped_out[0]).astype(int)"
   ]
  },
  {
   "cell_type": "code",
   "execution_count": 112,
   "id": "5c6ae328-c1a9-41f2-8f22-bc91e522fae5",
   "metadata": {},
   "outputs": [],
   "source": [
    "grouped_out = grouped_out.reset_index().sort_values(by='date')"
   ]
  },
  {
   "cell_type": "code",
   "execution_count": 113,
   "id": "fd986b39-d451-4a65-a5b9-275aae2e0b18",
   "metadata": {},
   "outputs": [
    {
     "data": {
      "text/html": [
       "<div>\n",
       "<style scoped>\n",
       "    .dataframe tbody tr th:only-of-type {\n",
       "        vertical-align: middle;\n",
       "    }\n",
       "\n",
       "    .dataframe tbody tr th {\n",
       "        vertical-align: top;\n",
       "    }\n",
       "\n",
       "    .dataframe thead th {\n",
       "        text-align: right;\n",
       "    }\n",
       "</style>\n",
       "<table border=\"1\" class=\"dataframe\">\n",
       "  <thead>\n",
       "    <tr style=\"text-align: right;\">\n",
       "      <th>trend</th>\n",
       "      <th>date</th>\n",
       "      <th>0</th>\n",
       "      <th>1</th>\n",
       "      <th>overall_trend</th>\n",
       "    </tr>\n",
       "  </thead>\n",
       "  <tbody>\n",
       "    <tr>\n",
       "      <th>0</th>\n",
       "      <td>2021-01-01</td>\n",
       "      <td>31</td>\n",
       "      <td>29</td>\n",
       "      <td>0</td>\n",
       "    </tr>\n",
       "    <tr>\n",
       "      <th>1</th>\n",
       "      <td>2021-01-02</td>\n",
       "      <td>39</td>\n",
       "      <td>32</td>\n",
       "      <td>0</td>\n",
       "    </tr>\n",
       "    <tr>\n",
       "      <th>2</th>\n",
       "      <td>2021-01-03</td>\n",
       "      <td>47</td>\n",
       "      <td>46</td>\n",
       "      <td>0</td>\n",
       "    </tr>\n",
       "    <tr>\n",
       "      <th>3</th>\n",
       "      <td>2021-01-04</td>\n",
       "      <td>165</td>\n",
       "      <td>103</td>\n",
       "      <td>0</td>\n",
       "    </tr>\n",
       "    <tr>\n",
       "      <th>4</th>\n",
       "      <td>2021-01-05</td>\n",
       "      <td>137</td>\n",
       "      <td>95</td>\n",
       "      <td>0</td>\n",
       "    </tr>\n",
       "  </tbody>\n",
       "</table>\n",
       "</div>"
      ],
      "text/plain": [
       "trend        date    0    1  overall_trend\n",
       "0      2021-01-01   31   29              0\n",
       "1      2021-01-02   39   32              0\n",
       "2      2021-01-03   47   46              0\n",
       "3      2021-01-04  165  103              0\n",
       "4      2021-01-05  137   95              0"
      ]
     },
     "execution_count": 113,
     "metadata": {},
     "output_type": "execute_result"
    }
   ],
   "source": [
    "grouped_out.head()"
   ]
  },
  {
   "cell_type": "code",
   "execution_count": 114,
   "id": "4c4d2daa-f951-4629-9bdc-3a2df15bdb48",
   "metadata": {},
   "outputs": [
    {
     "data": {
      "text/plain": [
       "overall_trend\n",
       "0    318\n",
       "1     46\n",
       "Name: count, dtype: int64"
      ]
     },
     "execution_count": 114,
     "metadata": {},
     "output_type": "execute_result"
    }
   ],
   "source": [
    "grouped_out['overall_trend'].value_counts()"
   ]
  },
  {
   "cell_type": "code",
   "execution_count": 115,
   "id": "73d18ade-c76b-46cf-8bfe-fd2079369a76",
   "metadata": {},
   "outputs": [],
   "source": [
    "grouped_out = grouped_out[['date','overall_trend']]"
   ]
  },
  {
   "cell_type": "code",
   "execution_count": 117,
   "id": "afa96448-f660-4c2a-8df0-b2ba09ccc870",
   "metadata": {},
   "outputs": [],
   "source": [
    "grouped_out.to_csv('./outputs/out_finbert_vader.csv', index=False)"
   ]
  },
  {
   "cell_type": "markdown",
   "id": "d9dc924f-6c98-49b3-9d46-cb030dd3cbdd",
   "metadata": {},
   "source": [
    "### Based on the analysis, Approach 2 has been selected. The reason for this choice is that Approach 2 offers a more balanced distribution of sentiments."
   ]
  },
  {
   "cell_type": "code",
   "execution_count": null,
   "id": "cab1328d-c563-4408-9e06-f97cf031d703",
   "metadata": {},
   "outputs": [],
   "source": []
  }
 ],
 "metadata": {
  "kernelspec": {
   "display_name": "Python 3 (ipykernel)",
   "language": "python",
   "name": "python3"
  },
  "language_info": {
   "codemirror_mode": {
    "name": "ipython",
    "version": 3
   },
   "file_extension": ".py",
   "mimetype": "text/x-python",
   "name": "python",
   "nbconvert_exporter": "python",
   "pygments_lexer": "ipython3",
   "version": "3.11.5"
  }
 },
 "nbformat": 4,
 "nbformat_minor": 5
}
